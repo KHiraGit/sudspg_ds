{
 "cells": [
  {
   "cell_type": "markdown",
   "metadata": {},
   "source": [
    "* ML09 ニューラルネットワーク\n",
    "  * tensorflow をインストールする\n",
    "  * Google Colab はインストール済み"
   ]
  },
  {
   "cell_type": "code",
   "execution_count": 1,
   "metadata": {},
   "outputs": [
    {
     "name": "stdout",
     "output_type": "stream",
     "text": [
      "2.10.1\n",
      "[PhysicalDevice(name='/physical_device:GPU:0', device_type='GPU')]\n"
     ]
    }
   ],
   "source": [
    "import tensorflow as tf\n",
    "import numpy as np\n",
    "import matplotlib.pyplot as plt\n",
    "\n",
    "print(tf.__version__)\n",
    "print(tf.config.list_physical_devices('GPU'))"
   ]
  },
  {
   "cell_type": "code",
   "execution_count": 2,
   "metadata": {},
   "outputs": [
    {
     "name": "stderr",
     "output_type": "stream",
     "text": [
      "e:\\sudspg\\su_dspg_ds\\venv\\lib\\site-packages\\pandas\\core\\arrays\\categorical.py:528: RuntimeWarning: invalid value encountered in cast\n",
      "  fill_value = lib.item_from_zerodim(np.array(np.nan).astype(dtype))\n"
     ]
    },
    {
     "name": "stdout",
     "output_type": "stream",
     "text": [
      "[0.         0.         0.         0.         0.         0.\n",
      " 0.         0.         0.         0.         0.         0.04705882\n",
      " 0.12156863 0.07058824 0.11372549 0.23921569 0.02745098 0.\n",
      " 0.         0.         0.00392157 0.         0.         0.\n",
      " 0.         0.         0.         0.         0.         0.\n",
      " 0.         0.         0.         0.         0.         0.\n",
      " 0.         0.         0.45490196 1.         1.         0.9882353\n",
      " 1.         0.93333334 0.8509804  0.5803922  0.05098039 0.\n",
      " 0.         0.         0.         0.         0.         0.\n",
      " 0.         0.         0.         0.         0.         0.\n",
      " 0.         0.         0.         0.         0.6        0.85490197\n",
      " 0.9372549  0.9137255  0.7921569  0.         0.654902   0.8784314\n",
      " 0.8509804  0.91764706 0.8627451  0.6392157  0.04705882 0.\n",
      " 0.         0.         0.         0.         0.         0.\n",
      " 0.         0.         0.         0.         0.         0.\n",
      " 0.29803923 0.8627451  0.9490196  0.8666667  0.8352941  0.85490197\n",
      " 0.9647059  0.8352941  0.8745098  0.87058824 0.8352941  0.8156863\n",
      " 0.8509804  0.9254902  0.89411765 0.49411765 0.         0.\n",
      " 0.         0.         0.         0.         0.         0.\n",
      " 0.         0.         0.         0.38039216 0.9529412  0.88235295\n",
      " 0.84313726 0.8352941  0.85882354 0.8509804  0.8627451  0.90588236\n",
      " 0.8666667  0.8392157  0.8235294  0.81960785 0.8235294  0.8352941\n",
      " 0.84313726 0.9411765  0.43529412 0.         0.         0.\n",
      " 0.         0.         0.         0.         0.00392157 0.\n",
      " 0.24313726 0.91764706 0.8901961  0.85490197 0.8666667  0.84705883\n",
      " 0.8509804  0.84705883 0.85882354 0.8392157  0.83137256 0.8392157\n",
      " 0.8352941  0.827451   0.83137256 0.84313726 0.84705883 0.83137256\n",
      " 0.9098039  0.23921569 0.         0.         0.         0.\n",
      " 0.         0.         0.         0.04705882 0.99607843 0.8745098\n",
      " 0.8862745  0.8745098  0.8392157  0.85490197 0.85490197 0.8392157\n",
      " 0.84705883 0.84313726 0.8352941  0.84705883 0.84705883 0.8392157\n",
      " 0.8235294  0.84705883 0.84705883 0.85490197 0.84313726 0.99607843\n",
      " 0.07450981 0.         0.         0.         0.         0.\n",
      " 0.         0.93333334 0.8901961  0.84313726 0.9254902  0.8666667\n",
      " 0.83137256 0.8509804  0.8392157  0.827451   0.8352941  0.85490197\n",
      " 0.84313726 0.8392157  0.827451   0.83137256 0.8352941  0.81960785\n",
      " 0.84705883 0.8392157  0.8352941  0.8666667  0.9764706  0.\n",
      " 0.         0.         0.         0.         0.7058824  0.94509804\n",
      " 0.8392157  0.85490197 0.91764706 0.8627451  0.85882354 0.8627451\n",
      " 0.8392157  0.84313726 0.84705883 0.8392157  0.827451   0.84705883\n",
      " 0.84705883 0.84705883 0.85490197 0.8392157  0.83137256 0.8509804\n",
      " 0.85882354 0.827451   0.8980392  0.8156863  0.         0.\n",
      " 0.         0.5686275  0.96862745 0.81960785 0.8745098  0.84313726\n",
      " 0.90588236 0.8784314  0.8901961  0.8666667  0.85490197 0.8627451\n",
      " 0.85490197 0.8235294  0.8235294  0.8627451  0.8745098  0.8392157\n",
      " 0.8666667  0.85490197 0.8039216  0.8509804  0.8392157  0.84313726\n",
      " 0.8039216  0.9372549  0.69411767 0.         0.         0.04705882\n",
      " 0.7411765  0.91764706 0.84313726 0.84705883 0.89411765 0.85882354\n",
      " 0.8666667  0.8509804  0.84705883 0.8509804  0.8352941  0.8509804\n",
      " 0.8352941  0.8392157  0.8509804  0.827451   0.85882354 0.8392157\n",
      " 0.8039216  0.827451   0.84313726 0.8156863  0.8980392  0.8039216\n",
      " 0.09411765 0.         0.         0.         0.         0.8235294\n",
      " 0.93333334 0.87058824 0.9882353  0.8980392  0.8509804  0.84313726\n",
      " 0.84313726 0.85490197 0.827451   0.85882354 0.827451   0.8235294\n",
      " 0.8509804  0.84313726 0.8509804  0.83137256 0.8509804  0.9529412\n",
      " 0.8392157  0.90588236 0.7764706  0.01568628 0.         0.\n",
      " 0.         0.         0.         0.         0.63529414 1.\n",
      " 0.4117647  0.8156863  0.89411765 0.84313726 0.84705883 0.85882354\n",
      " 0.8156863  0.84313726 0.81960785 0.827451   0.85882354 0.84705883\n",
      " 0.83137256 0.85490197 0.8039216  0.38431373 1.         0.79607844\n",
      " 0.         0.         0.         0.         0.         0.\n",
      " 0.         0.         0.         0.05882353 0.         0.95686275\n",
      " 0.85490197 0.84313726 0.8509804  0.8352941  0.81960785 0.85490197\n",
      " 0.81960785 0.83137256 0.8352941  0.827451   0.8352941  0.81960785\n",
      " 0.9529412  0.         0.14117648 0.         0.         0.00784314\n",
      " 0.         0.         0.         0.         0.         0.\n",
      " 0.         0.         0.         0.9411765  0.85882354 0.8156863\n",
      " 0.8352941  0.8117647  0.8156863  0.84313726 0.8156863  0.8392157\n",
      " 0.8156863  0.8235294  0.8156863  0.83137256 0.9764706  0.\n",
      " 0.         0.         0.00784314 0.         0.         0.\n",
      " 0.         0.         0.         0.         0.00392157 0.\n",
      " 0.         0.9254902  0.84313726 0.827451   0.8235294  0.83137256\n",
      " 0.8392157  0.827451   0.8039216  0.84313726 0.8156863  0.81960785\n",
      " 0.8117647  0.8235294  0.9607843  0.         0.         0.00392157\n",
      " 0.         0.00784314 0.         0.         0.         0.\n",
      " 0.         0.         0.00784314 0.         0.         0.93333334\n",
      " 0.85490197 0.8392157  0.8117647  0.8352941  0.8352941  0.84313726\n",
      " 0.8156863  0.8156863  0.80784315 0.827451   0.80784315 0.81960785\n",
      " 0.94509804 0.         0.         0.01176471 0.         0.\n",
      " 0.         0.         0.         0.         0.         0.\n",
      " 0.00784314 0.         0.         0.9411765  0.8509804  0.81960785\n",
      " 0.827451   0.8392157  0.827451   0.8392157  0.8235294  0.8235294\n",
      " 0.8235294  0.8235294  0.80784315 0.8235294  0.9529412  0.\n",
      " 0.         0.00784314 0.         0.         0.         0.\n",
      " 0.         0.         0.         0.         0.01176471 0.\n",
      " 0.         0.9490196  0.84705883 0.8117647  0.8392157  0.8392157\n",
      " 0.8235294  0.8235294  0.80784315 0.81960785 0.81960785 0.8235294\n",
      " 0.8156863  0.81960785 0.94509804 0.         0.         0.01176471\n",
      " 0.         0.         0.         0.         0.         0.\n",
      " 0.         0.         0.00784314 0.         0.         0.95686275\n",
      " 0.84313726 0.81960785 0.8392157  0.81960785 0.8392157  0.8352941\n",
      " 0.8156863  0.827451   0.79607844 0.81960785 0.8235294  0.8235294\n",
      " 0.9411765  0.         0.         0.01176471 0.         0.\n",
      " 0.         0.         0.         0.         0.         0.\n",
      " 0.01176471 0.         0.         0.8156863  0.84313726 0.827451\n",
      " 0.8352941  0.81960785 0.83137256 0.8352941  0.8156863  0.8235294\n",
      " 0.8117647  0.81960785 0.80784315 0.8235294  0.9490196  0.\n",
      " 0.         0.01176471 0.         0.         0.         0.\n",
      " 0.         0.         0.         0.         0.01176471 0.\n",
      " 0.         0.8235294  0.84705883 0.83137256 0.8392157  0.8352941\n",
      " 0.83137256 0.827451   0.8117647  0.8156863  0.81960785 0.827451\n",
      " 0.8039216  0.827451   0.8        0.         0.         0.01176471\n",
      " 0.         0.         0.         0.         0.         0.\n",
      " 0.         0.         0.01176471 0.         0.         0.8235294\n",
      " 0.8509804  0.83137256 0.8392157  0.8392157  0.8392157  0.8352941\n",
      " 0.8156863  0.81960785 0.8156863  0.8117647  0.8039216  0.8235294\n",
      " 0.7882353  0.         0.         0.01176471 0.         0.\n",
      " 0.         0.         0.         0.         0.         0.\n",
      " 0.01176471 0.         0.         0.8235294  0.8509804  0.827451\n",
      " 0.8352941  0.8352941  0.8392157  0.84313726 0.827451   0.8235294\n",
      " 0.8235294  0.8156863  0.81960785 0.8392157  0.99215686 0.\n",
      " 0.         0.01176471 0.         0.         0.         0.\n",
      " 0.         0.         0.         0.         0.01176471 0.\n",
      " 0.         0.8117647  0.84705883 0.8352941  0.84705883 0.85490197\n",
      " 0.85490197 0.85882354 0.84313726 0.8392157  0.827451   0.81960785\n",
      " 0.827451   0.80784315 0.67058825 0.         0.         0.01176471\n",
      " 0.         0.         0.         0.         0.         0.\n",
      " 0.         0.         0.00784314 0.         0.         0.8156863\n",
      " 0.8509804  0.8156863  0.8117647  0.80784315 0.80784315 0.827451\n",
      " 0.8117647  0.80784315 0.8117647  0.80784315 0.8117647  0.8039216\n",
      " 0.6        0.         0.         0.01176471 0.         0.\n",
      " 0.         0.         0.         0.         0.         0.\n",
      " 0.00392157 0.         0.         0.8627451  0.9137255  0.87058824\n",
      " 0.9607843  0.93333334 0.9490196  0.9843137  0.9607843  0.9372549\n",
      " 0.93333334 0.9411765  0.8666667  0.89411765 0.99215686 0.\n",
      " 0.         0.00784314 0.         0.         0.         0.\n",
      " 0.         0.         0.         0.         0.         0.\n",
      " 0.         0.         0.16470589 0.36862746 0.48235294 0.5647059\n",
      " 0.54901963 0.5176471  0.53333336 0.5764706  0.58431375 0.5529412\n",
      " 0.4117647  0.2509804  0.         0.         0.         0.\n",
      " 0.         0.         0.         0.        ]\n",
      "[[0. 0. 0. 0. 0. 0. 1. 0. 0. 0.]\n",
      " [0. 0. 0. 1. 0. 0. 0. 0. 0. 0.]\n",
      " [0. 0. 0. 0. 0. 0. 0. 0. 0. 1.]]\n",
      "x_train:5250 x_test:1750 y_train:5250 y_test:1750\n"
     ]
    }
   ],
   "source": [
    "from sklearn.datasets import fetch_openml\n",
    "from sklearn import preprocessing\n",
    "from sklearn.model_selection import train_test_split\n",
    "\n",
    "# 手書き文字のデータセットをダウンロードして、実験用データを準備 (70000枚のうち7000枚を利用)\n",
    "mnist_data = fetch_openml('Fashion-MNIST', version=1)\n",
    "_x = np.array(mnist_data['data'].astype(np.float32))\n",
    "_y = np.array(mnist_data['target'].astype(np.int32))\n",
    "_, x, _, y = train_test_split(_x, _y, test_size=0.1, random_state=1)\n",
    "\n",
    "# 特徴量は 0-1 の範囲に正規化、ターゲットは one-hot ベクトル化\n",
    "x = x / 255\n",
    "print(x[0])\n",
    "y = np.identity(10)[y]\n",
    "print(y[:3])\n",
    "\n",
    "# データを学習用と検証用に分割\n",
    "x_train, x_test, y_train, y_test = \\\n",
    "    train_test_split(x, y, test_size=0.25, random_state=1) # 検証用データに25%を割当て\n",
    "print(f'x_train:{len(x_train)} x_test:{len(x_test)} y_train:{len(y_train)} y_test:{len(y_test)}')"
   ]
  },
  {
   "cell_type": "code",
   "execution_count": 3,
   "metadata": {},
   "outputs": [
    {
     "name": "stdout",
     "output_type": "stream",
     "text": [
      "Model: \"mnist_model\"\n",
      "_________________________________________________________________\n",
      " Layer (type)                Output Shape              Param #   \n",
      "=================================================================\n",
      " dense (Dense)               (None, 784)               615440    \n",
      "                                                                 \n",
      " dense_1 (Dense)             (None, 10)                7850      \n",
      "                                                                 \n",
      "=================================================================\n",
      "Total params: 623,290\n",
      "Trainable params: 623,290\n",
      "Non-trainable params: 0\n",
      "_________________________________________________________________\n",
      "mnist_model, accuracy_score: train data : 0.99390  test data : 0.86800\n",
      "Wall time: 1min 33s\n"
     ]
    },
    {
     "data": {
      "image/png": "[encoded data removed]",
      "text/plain": [
       "<Figure size 432x288 with 1 Axes>"
      ]
     },
     "metadata": {
      "needs_background": "light"
     },
     "output_type": "display_data"
    }
   ],
   "source": [
    "%%time \n",
    "# ニューラルネットワークのモデルを作成 (サマリを表示)\n",
    "mnist_model = tf.keras.models.Sequential(name='mnist_model') # ニューラルネットワークのモデルの箱を用意\n",
    "mnist_model.add(tf.keras.Input(shape=(784,))) # 784入力の入力層\n",
    "mnist_model.add(tf.keras.layers.Dense(units=784, activation='relu')) # 784入力のセルを784個用意、活性化関数は ReLU\n",
    "mnist_model.add(tf.keras.layers.Dense(units=10, activation='softmax')) # セルを10個からなる出力層を用意、活性化関数はソフトマックス\n",
    "mnist_model.summary()  # 作成したモデルの中身を表示\n",
    "\n",
    "# 学習時の設定を行い、学習を実施 (学習中のlossの変化をグラフで表示)\n",
    "mnist_model.compile(loss='categorical_crossentropy', optimizer='sgd', metrics=['accuracy']) # 学習時の損失関数、最適化関数、評価関数を設定\n",
    "history = mnist_model.fit(x_train, y_train, epochs=100, batch_size=10, verbose=0) # fit関数で学習を実施\n",
    "plt.plot(history.history['loss']) # 学習中のlossの変化をグラフで表示\n",
    "\n",
    "# 学習したモデルの性能(正答率)を学習用データと検証用データで評価\n",
    "train_loss, train_accuracy = mnist_model.evaluate(x_train, y_train, verbose=0)\n",
    "test_loss, test_accuracy = mnist_model.evaluate(x_test, y_test, verbose=0)\n",
    "print(f'mnist_model, accuracy_score: train data : {train_accuracy:.5f}  test data : {test_accuracy:.5f}')"
   ]
  }
 ],
 "metadata": {
  "kernelspec": {
   "display_name": "venv",
   "language": "python",
   "name": "python3"
  },
  "language_info": {
   "codemirror_mode": {
    "name": "ipython",
    "version": 3
   },
   "file_extension": ".py",
   "mimetype": "text/x-python",
   "name": "python",
   "nbconvert_exporter": "python",
   "pygments_lexer": "ipython3",
   "version": "3.9.9"
  },
  "orig_nbformat": 4
 },
 "nbformat": 4,
 "nbformat_minor": 2
}
