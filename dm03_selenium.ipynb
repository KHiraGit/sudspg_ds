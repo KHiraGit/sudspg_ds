{
 "cells": [
  {
   "attachments": {},
   "cell_type": "markdown",
   "metadata": {},
   "source": [
    "* データマイニング特別演習 第３回 (DM03) データの収集とデータの構造\n",
    "  * 静的Webページからの情報収集 \n",
    "  * 動的Webページからの情報収集\n",
    "    * pythonのライブラリ(selenium)を使ったデータ収集"
   ]
  },
  {
   "cell_type": "code",
   "execution_count": null,
   "metadata": {},
   "outputs": [],
   "source": [
    "# Windows の場合：\n",
    "# ライブラリを pip コマンドを使ってインストール\n",
    "# pip install selenium  \n",
    "# pip install chromedriver-binary==140.*  # 140 は インストールされている chrome のバージョン (2025.10.1)"
   ]
  },
  {
   "cell_type": "code",
   "execution_count": null,
   "metadata": {},
   "outputs": [],
   "source": [
    "# Google Colab の場合：\n",
    "# 以下のコメントアウトを外して実行\n",
    "\n",
    "# %%shell\n",
    "# # Seleniumをインストール。\n",
    "# pip install selenium\n",
    "# # 日本語フォントをインストール\n",
    "# apt-get -y install fonts-ipafont-gothic"
   ]
  },
  {
   "cell_type": "code",
   "execution_count": null,
   "metadata": {},
   "outputs": [],
   "source": [
    "# ライブラリをインポート\n",
    "import time\n",
    "from selenium import webdriver # Windows の場合はコメントアウトを外す\n",
    "from selenium.webdriver.chrome.options import Options\n",
    "import chromedriver_binary # Google colab の場合はコメントアウトする\n",
    "import matplotlib.pyplot as plt"
   ]
  },
  {
   "cell_type": "code",
   "execution_count": null,
   "metadata": {},
   "outputs": [],
   "source": [
    "image_file = 'dm03_selenium_screenshot_1.png'\n",
    "# selenium の初期設定\n",
    "options = Options()\n",
    "# Google Colab の場合は、次の2行のコメントアウトを外す (ブラウザが表示されない)\n",
    "# options.add_argument('--headless')\n",
    "# options.add_argument('--no-sandbox')\n",
    "\n",
    "# URLで指定されたWebページをブラウザで表示\n",
    "driver = webdriver.Chrome(options=options)\n",
    "driver.set_window_size(1500,1500)\n",
    "driver.get('https://www.saitama-u.ac.jp/rikogaku/')\n",
    "time.sleep(5) # 5秒スリープ\n",
    "\n",
    "# ブラウザのスクリーンショットを保存\n",
    "driver.save_screenshot(image_file)\n",
    "\n",
    "# selenium のドライバを修了\n",
    "driver.quit()\n",
    "\n",
    "# 画像を読込み変数に格納し、表示\n",
    "image = plt.imread(image_file)\n",
    "plt.imshow(image)"
   ]
  },
  {
   "cell_type": "code",
   "execution_count": null,
   "metadata": {},
   "outputs": [],
   "source": [
    "from selenium.webdriver.common.by import By\n",
    "\n",
    "image_file = 'dm03_selenium_screenshot_2.png'\n",
    "# selenium の初期設定\n",
    "options = Options()\n",
    "# Google Colab の場合は、次の2行のコメントアウトを外す (ブラウザが表示されない)\n",
    "# options.add_argument('--headless')\n",
    "# options.add_argument('--no-sandbox')\n",
    "\n",
    "# URLで指定されたWebページをブラウザで表示\n",
    "driver = webdriver.Chrome(options=options)\n",
    "driver.set_window_size(1500,1500)\n",
    "driver.get('https://www.saitama-u.ac.jp/index.html')\n",
    "time.sleep(1) # 1秒スリープ\n",
    "# 「検索」をクリック\n",
    "search_button = driver.find_element(By.CSS_SELECTOR, \"#search-box\") # #search-box\n",
    "search_button.click()\n",
    "time.sleep(1) # 1秒スリープ\n",
    "# 「理工学研究科」を検索\n",
    "search = driver.find_element(By.CSS_SELECTOR, \"#cse-search-box > input[type=text]:nth-child(4)\") \n",
    "search.send_keys('理工学研究科') # 検索ワードを送信する\n",
    "time.sleep(1) # 1秒スリープ\n",
    "search.submit()                 # 検索を実行\n",
    "time.sleep(1) # 1秒スリープ\n",
    "#  検索結果 1件目のテキストを表示 (広告除く)\n",
    "element = driver.find_element(By.CSS_SELECTOR, \"#___gcse_0 > div > div > div > div.gsc-wrapper \"\n",
    "                                              + \"> div.gsc-resultsbox-visible > div > div \" \n",
    "                                              + \"> div.gsc-expansionArea > div:nth-child(1) \" \n",
    "                                              + \"> div.gs-webResult.gs-result > div.gsc-thumbnail-inside > div > a\")\n",
    "print('検索結果 1件目', element.text)\n",
    "\n",
    "# ブラウザのスクリーンショットを保存\n",
    "driver.save_screenshot(image_file)\n",
    "# selenium のドライバを修了\n",
    "driver.quit()\n",
    "\n",
    "# 画像を読込み変数に格納し、表示\n",
    "image = plt.imread(image_file)\n",
    "plt.imshow(image)"
   ]
  },
  {
   "cell_type": "code",
   "execution_count": null,
   "metadata": {},
   "outputs": [],
   "source": [
    "from selenium.webdriver.support.select import Select\n",
    " \n",
    "# 埼玉大学シラバス検索 で 条件を指定して科目を検索\n",
    "image_file = 'dm03_selenium_screenshot_3.png'\n",
    "# selenium の初期設定\n",
    "options = Options()\n",
    "# Google Colab の場合は、次の2行のコメントアウトを外す (ブラウザが表示されない)\n",
    "# options.add_argument('--headless') # ブラウザを表示しない場合は、指定サイズの画像が保存可能\n",
    "# options.add_argument('--no-sandbox') \n",
    "\n",
    "# URLで指定されたWebページをブラウザで表示\n",
    "driver = webdriver.Chrome(options=options)\n",
    "driver.set_window_size(1280,2000)\n",
    "driver.get('https://syllabus.risyu.saitama-u.ac.jp/syllabus/')\n",
    "\n",
    "time.sleep(1) # 1秒スリープ\n",
    "\n",
    "# ドロップダウンで条件を設定\n",
    "dropdown_1 = driver.find_element(By.CSS_SELECTOR, '#jikanwariShozokuCd') # 開講学部\n",
    "select_1 = Select(dropdown_1)\n",
    "select_1.select_by_visible_text('理工学研究科博士前期課程') \n",
    "time.sleep(1) # 1秒スリープ\n",
    "dropdown_2 = driver.find_element(By.CSS_SELECTOR, '#yobi') # 曜日\n",
    "select_2 = Select(dropdown_2)\n",
    "select_2.select_by_visible_text('月曜日') \n",
    "time.sleep(1) # 1秒スリープ\n",
    "dropdown_3 = driver.find_element(By.CSS_SELECTOR, '#jigen') # 時限\n",
    "select_3 = Select(dropdown_3)\n",
    "select_3.select_by_visible_text('5限') \n",
    "time.sleep(1) # 1秒スリープ\n",
    "\n",
    "# 「検索」をクリック\n",
    "search_button = driver.find_element(By.CSS_SELECTOR, \"#jikanwariKeywordForm > table > tbody > tr:nth-child(13) > td > p > input:nth-child(1)\") # #jikanwariKeywordForm > table > tbody > tr:nth-child(13) > td > p > input:nth-child(1)\n",
    "search_button.click()\n",
    "time.sleep(1) # 1秒スリープ\n",
    "\n",
    "# ブラウザのスクリーンショット(検索結果)を保存\n",
    "driver.save_screenshot(image_file)\n",
    "\n",
    "# selenium のドライバを修了\n",
    "driver.quit()\n",
    "\n",
    "# 画像を読込み変数に格納し、表示\n",
    "image = plt.imread(image_file)\n",
    "plt.imshow(image)"
   ]
  }
 ],
 "metadata": {
  "kernelspec": {
   "display_name": "venv",
   "language": "python",
   "name": "python3"
  },
  "language_info": {
   "codemirror_mode": {
    "name": "ipython",
    "version": 3
   },
   "file_extension": ".py",
   "mimetype": "text/x-python",
   "name": "python",
   "nbconvert_exporter": "python",
   "pygments_lexer": "ipython3",
   "version": "3.13.2"
  },
  "orig_nbformat": 4
 },
 "nbformat": 4,
 "nbformat_minor": 2
}
