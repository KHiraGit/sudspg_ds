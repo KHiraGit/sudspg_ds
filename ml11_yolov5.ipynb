{
  "cells": [
    {
      "cell_type": "markdown",
      "metadata": {
        "id": "6nhmdtM4MiJ4"
      },
      "source": [
        "* YOLO v5で物体検出と学習をする方法　Google Colabで動作 より\n",
        "* https://laid-back-scientist.com/yolo-v5\n",
        "* google colab で実行する前にランタイプを GPU に変更"
      ]
    },
    {
      "cell_type": "code",
      "execution_count": null,
      "metadata": {
        "colab": {
          "base_uri": "https://localhost:8080/"
        },
        "id": "vwSNb_GJMep3",
        "outputId": "c33723af-bc26-4d2b-e871-825fab629d85"
      },
      "outputs": [],
      "source": [
        "!git clone https://github.com/ultralytics/yolov5\n",
        "%cd /content/yolov5/\n",
        "!pip install -qr requirements.txt"
      ]
    },
    {
      "cell_type": "code",
      "execution_count": null,
      "metadata": {
        "colab": {
          "base_uri": "https://localhost:8080/"
        },
        "id": "QWvs4vjaOFzU",
        "outputId": "bfa75116-6b35-4abb-804c-5ec984887f06"
      },
      "outputs": [],
      "source": [
        "!wget https://github.com/ultralytics/yolov5/raw/master/data/images/bus.jpg\n",
        "!python detect.py --source bus.jpg --weights yolov5s.pt --conf 0.3 --name demo --exist-ok"
      ]
    },
    {
      "cell_type": "code",
      "execution_count": null,
      "metadata": {
        "colab": {
          "base_uri": "https://localhost:8080/",
          "height": 556
        },
        "id": "7D1UwuMROQ6v",
        "outputId": "ae248553-2d7c-4e5a-d736-b5f5f0744ec8"
      },
      "outputs": [],
      "source": [
        "import glob\n",
        "import matplotlib.pyplot as plt\n",
        "files = glob.glob('runs/detect/demo/*')\n",
        "for file in files:\n",
        "  print(file)\n",
        "  plt.imshow(plt.imread(file))\n",
        "  plt.show()"
      ]
    }
  ],
  "metadata": {
    "accelerator": "GPU",
    "colab": {
      "provenance": []
    },
    "gpuClass": "standard",
    "kernelspec": {
      "display_name": "Python 3",
      "name": "python3"
    },
    "language_info": {
      "name": "python"
    }
  },
  "nbformat": 4,
  "nbformat_minor": 0
}
