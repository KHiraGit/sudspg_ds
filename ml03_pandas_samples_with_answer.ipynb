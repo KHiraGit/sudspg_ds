{
 "cells": [
  {
   "cell_type": "code",
   "execution_count": 1,
   "metadata": {},
   "outputs": [],
   "source": [
    "# google colab で実行する場合は、次の行の先頭の # を削除してこのブロックを実行する\n",
    "#!wget https://raw.githubusercontent.com/KHiraGit/sudspg_ds/main/ml04_sukkiri_ml_cinema.xlsx"
   ]
  },
  {
   "cell_type": "code",
   "execution_count": 2,
   "metadata": {},
   "outputs": [],
   "source": [
    "import pandas as pd\n",
    "import openpyxl"
   ]
  },
  {
   "cell_type": "code",
   "execution_count": 3,
   "metadata": {},
   "outputs": [
    {
     "data": {
      "text/html": [
       "<div>\n",
       "<style scoped>\n",
       "    .dataframe tbody tr th:only-of-type {\n",
       "        vertical-align: middle;\n",
       "    }\n",
       "\n",
       "    .dataframe tbody tr th {\n",
       "        vertical-align: top;\n",
       "    }\n",
       "\n",
       "    .dataframe thead th {\n",
       "        text-align: right;\n",
       "    }\n",
       "</style>\n",
       "<table border=\"1\" class=\"dataframe\">\n",
       "  <thead>\n",
       "    <tr style=\"text-align: right;\">\n",
       "      <th></th>\n",
       "      <th>price</th>\n",
       "      <th>cal</th>\n",
       "      <th>ingredients</th>\n",
       "    </tr>\n",
       "  </thead>\n",
       "  <tbody>\n",
       "    <tr>\n",
       "      <th>おむすび</th>\n",
       "      <td>150</td>\n",
       "      <td>300</td>\n",
       "      <td>rice</td>\n",
       "    </tr>\n",
       "    <tr>\n",
       "      <th>サンドイッチ</th>\n",
       "      <td>300</td>\n",
       "      <td>400</td>\n",
       "      <td>flour</td>\n",
       "    </tr>\n",
       "    <tr>\n",
       "      <th>ナポリタン</th>\n",
       "      <td>600</td>\n",
       "      <td>800</td>\n",
       "      <td>flour</td>\n",
       "    </tr>\n",
       "  </tbody>\n",
       "</table>\n",
       "</div>"
      ],
      "text/plain": [
       "        price  cal ingredients\n",
       "おむすび      150  300        rice\n",
       "サンドイッチ    300  400       flour\n",
       "ナポリタン     600  800       flour"
      ]
     },
     "execution_count": 3,
     "metadata": {},
     "output_type": "execute_result"
    }
   ],
   "source": [
    "# read_excel関数でエクセルのワークシートをデータフレームに読み込む\n",
    "# index_col=0を指定すると0列目(A列)がデータのインデックスとして利用される\n",
    "df_sample = pd.read_excel('ml03_df_2025.xlsx', sheet_name='df_sample', index_col=0)\n",
    "df_sample  # jupyterではこの行でデータフレームの内容を表示"
   ]
  },
  {
   "cell_type": "code",
   "execution_count": 4,
   "metadata": {},
   "outputs": [
    {
     "name": "stdout",
     "output_type": "stream",
     "text": [
      "行数と列数 (3, 3)\n",
      "インデックス Index(['おむすび', 'サンドイッチ', 'ナポリタン'], dtype='object')\n",
      "列名 Index(['price', 'cal', 'ingredients'], dtype='object')\n"
     ]
    }
   ],
   "source": [
    "# データフレームの情報を取得\n",
    "print('行数と列数', df_sample.shape)\n",
    "print('インデックス', df_sample.index)\n",
    "print('列名', df_sample.columns)"
   ]
  },
  {
   "cell_type": "code",
   "execution_count": 5,
   "metadata": {},
   "outputs": [
    {
     "data": {
      "text/html": [
       "<div>\n",
       "<style scoped>\n",
       "    .dataframe tbody tr th:only-of-type {\n",
       "        vertical-align: middle;\n",
       "    }\n",
       "\n",
       "    .dataframe tbody tr th {\n",
       "        vertical-align: top;\n",
       "    }\n",
       "\n",
       "    .dataframe thead th {\n",
       "        text-align: right;\n",
       "    }\n",
       "</style>\n",
       "<table border=\"1\" class=\"dataframe\">\n",
       "  <thead>\n",
       "    <tr style=\"text-align: right;\">\n",
       "      <th></th>\n",
       "      <th>price</th>\n",
       "      <th>cal</th>\n",
       "      <th>ingredients</th>\n",
       "    </tr>\n",
       "  </thead>\n",
       "  <tbody>\n",
       "    <tr>\n",
       "      <th>おむすび</th>\n",
       "      <td>150</td>\n",
       "      <td>300</td>\n",
       "      <td>rice</td>\n",
       "    </tr>\n",
       "  </tbody>\n",
       "</table>\n",
       "</div>"
      ],
      "text/plain": [
       "      price  cal ingredients\n",
       "おむすび    150  300        rice"
      ]
     },
     "execution_count": 5,
     "metadata": {},
     "output_type": "execute_result"
    }
   ],
   "source": [
    "# データフレームの先頭(1行目)を表示\n",
    "df_sample.head(1)"
   ]
  },
  {
   "cell_type": "code",
   "execution_count": 6,
   "metadata": {},
   "outputs": [
    {
     "data": {
      "text/html": [
       "<div>\n",
       "<style scoped>\n",
       "    .dataframe tbody tr th:only-of-type {\n",
       "        vertical-align: middle;\n",
       "    }\n",
       "\n",
       "    .dataframe tbody tr th {\n",
       "        vertical-align: top;\n",
       "    }\n",
       "\n",
       "    .dataframe thead th {\n",
       "        text-align: right;\n",
       "    }\n",
       "</style>\n",
       "<table border=\"1\" class=\"dataframe\">\n",
       "  <thead>\n",
       "    <tr style=\"text-align: right;\">\n",
       "      <th></th>\n",
       "      <th>price</th>\n",
       "      <th>cal</th>\n",
       "      <th>ingredients</th>\n",
       "    </tr>\n",
       "  </thead>\n",
       "  <tbody>\n",
       "    <tr>\n",
       "      <th>ナポリタン</th>\n",
       "      <td>600</td>\n",
       "      <td>800</td>\n",
       "      <td>flour</td>\n",
       "    </tr>\n",
       "  </tbody>\n",
       "</table>\n",
       "</div>"
      ],
      "text/plain": [
       "       price  cal ingredients\n",
       "ナポリタン    600  800       flour"
      ]
     },
     "execution_count": 6,
     "metadata": {},
     "output_type": "execute_result"
    }
   ],
   "source": [
    "# データフレームの末尾(1行目)を表示\n",
    "df_sample.tail(1)"
   ]
  },
  {
   "cell_type": "code",
   "execution_count": 7,
   "metadata": {},
   "outputs": [
    {
     "data": {
      "text/plain": [
       "price            300\n",
       "cal              400\n",
       "ingredients    flour\n",
       "Name: サンドイッチ, dtype: object"
      ]
     },
     "execution_count": 7,
     "metadata": {},
     "output_type": "execute_result"
    }
   ],
   "source": [
    "# 特定の1行を表示\n",
    "df_sample.loc['サンドイッチ']"
   ]
  },
  {
   "cell_type": "code",
   "execution_count": 8,
   "metadata": {},
   "outputs": [
    {
     "data": {
      "text/html": [
       "<div>\n",
       "<style scoped>\n",
       "    .dataframe tbody tr th:only-of-type {\n",
       "        vertical-align: middle;\n",
       "    }\n",
       "\n",
       "    .dataframe tbody tr th {\n",
       "        vertical-align: top;\n",
       "    }\n",
       "\n",
       "    .dataframe thead th {\n",
       "        text-align: right;\n",
       "    }\n",
       "</style>\n",
       "<table border=\"1\" class=\"dataframe\">\n",
       "  <thead>\n",
       "    <tr style=\"text-align: right;\">\n",
       "      <th></th>\n",
       "      <th>price</th>\n",
       "      <th>cal</th>\n",
       "      <th>ingredients</th>\n",
       "    </tr>\n",
       "  </thead>\n",
       "  <tbody>\n",
       "    <tr>\n",
       "      <th>サンドイッチ</th>\n",
       "      <td>300</td>\n",
       "      <td>400</td>\n",
       "      <td>flour</td>\n",
       "    </tr>\n",
       "    <tr>\n",
       "      <th>おむすび</th>\n",
       "      <td>150</td>\n",
       "      <td>300</td>\n",
       "      <td>rice</td>\n",
       "    </tr>\n",
       "  </tbody>\n",
       "</table>\n",
       "</div>"
      ],
      "text/plain": [
       "        price  cal ingredients\n",
       "サンドイッチ    300  400       flour\n",
       "おむすび      150  300        rice"
      ]
     },
     "execution_count": 8,
     "metadata": {},
     "output_type": "execute_result"
    }
   ],
   "source": [
    "# 特定の複数行を表示\n",
    "df_sample.loc[['サンドイッチ', 'おむすび']]  # 指定した順に表示される"
   ]
  },
  {
   "cell_type": "code",
   "execution_count": 9,
   "metadata": {},
   "outputs": [
    {
     "data": {
      "text/html": [
       "<div>\n",
       "<style scoped>\n",
       "    .dataframe tbody tr th:only-of-type {\n",
       "        vertical-align: middle;\n",
       "    }\n",
       "\n",
       "    .dataframe tbody tr th {\n",
       "        vertical-align: top;\n",
       "    }\n",
       "\n",
       "    .dataframe thead th {\n",
       "        text-align: right;\n",
       "    }\n",
       "</style>\n",
       "<table border=\"1\" class=\"dataframe\">\n",
       "  <thead>\n",
       "    <tr style=\"text-align: right;\">\n",
       "      <th></th>\n",
       "      <th>price</th>\n",
       "      <th>cal</th>\n",
       "      <th>ingredients</th>\n",
       "    </tr>\n",
       "  </thead>\n",
       "  <tbody>\n",
       "    <tr>\n",
       "      <th>おむすび</th>\n",
       "      <td>150</td>\n",
       "      <td>300</td>\n",
       "      <td>rice</td>\n",
       "    </tr>\n",
       "    <tr>\n",
       "      <th>サンドイッチ</th>\n",
       "      <td>300</td>\n",
       "      <td>400</td>\n",
       "      <td>flour</td>\n",
       "    </tr>\n",
       "  </tbody>\n",
       "</table>\n",
       "</div>"
      ],
      "text/plain": [
       "        price  cal ingredients\n",
       "おむすび      150  300        rice\n",
       "サンドイッチ    300  400       flour"
      ]
     },
     "execution_count": 9,
     "metadata": {},
     "output_type": "execute_result"
    }
   ],
   "source": [
    "# 条件を満たす行を表示\n",
    "df_sample[df_sample['price'] < 500] "
   ]
  },
  {
   "cell_type": "code",
   "execution_count": 10,
   "metadata": {},
   "outputs": [
    {
     "data": {
      "text/html": [
       "<div>\n",
       "<style scoped>\n",
       "    .dataframe tbody tr th:only-of-type {\n",
       "        vertical-align: middle;\n",
       "    }\n",
       "\n",
       "    .dataframe tbody tr th {\n",
       "        vertical-align: top;\n",
       "    }\n",
       "\n",
       "    .dataframe thead th {\n",
       "        text-align: right;\n",
       "    }\n",
       "</style>\n",
       "<table border=\"1\" class=\"dataframe\">\n",
       "  <thead>\n",
       "    <tr style=\"text-align: right;\">\n",
       "      <th></th>\n",
       "      <th>price</th>\n",
       "      <th>cal</th>\n",
       "      <th>ingredients</th>\n",
       "    </tr>\n",
       "  </thead>\n",
       "  <tbody>\n",
       "    <tr>\n",
       "      <th>ナポリタン</th>\n",
       "      <td>600</td>\n",
       "      <td>800</td>\n",
       "      <td>flour</td>\n",
       "    </tr>\n",
       "  </tbody>\n",
       "</table>\n",
       "</div>"
      ],
      "text/plain": [
       "       price  cal ingredients\n",
       "ナポリタン    600  800       flour"
      ]
     },
     "execution_count": 10,
     "metadata": {},
     "output_type": "execute_result"
    }
   ],
   "source": [
    "# 複数の条件を満たす行を表示\n",
    "# 各条件は括弧で囲む、条件のANDは &, OR は | を使う\n",
    "df_sample[(df_sample['price'] > 500) & (df_sample['cal'] > 500)] "
   ]
  },
  {
   "cell_type": "code",
   "execution_count": 11,
   "metadata": {},
   "outputs": [
    {
     "data": {
      "text/plain": [
       "おむすび      150\n",
       "サンドイッチ    300\n",
       "ナポリタン     600\n",
       "Name: price, dtype: int64"
      ]
     },
     "execution_count": 11,
     "metadata": {},
     "output_type": "execute_result"
    }
   ],
   "source": [
    "# 特定の1列を表示\n",
    "df_sample['price']"
   ]
  },
  {
   "cell_type": "code",
   "execution_count": 12,
   "metadata": {},
   "outputs": [
    {
     "data": {
      "text/html": [
       "<div>\n",
       "<style scoped>\n",
       "    .dataframe tbody tr th:only-of-type {\n",
       "        vertical-align: middle;\n",
       "    }\n",
       "\n",
       "    .dataframe tbody tr th {\n",
       "        vertical-align: top;\n",
       "    }\n",
       "\n",
       "    .dataframe thead th {\n",
       "        text-align: right;\n",
       "    }\n",
       "</style>\n",
       "<table border=\"1\" class=\"dataframe\">\n",
       "  <thead>\n",
       "    <tr style=\"text-align: right;\">\n",
       "      <th></th>\n",
       "      <th>cal</th>\n",
       "      <th>price</th>\n",
       "    </tr>\n",
       "  </thead>\n",
       "  <tbody>\n",
       "    <tr>\n",
       "      <th>おむすび</th>\n",
       "      <td>300</td>\n",
       "      <td>150</td>\n",
       "    </tr>\n",
       "    <tr>\n",
       "      <th>サンドイッチ</th>\n",
       "      <td>400</td>\n",
       "      <td>300</td>\n",
       "    </tr>\n",
       "    <tr>\n",
       "      <th>ナポリタン</th>\n",
       "      <td>800</td>\n",
       "      <td>600</td>\n",
       "    </tr>\n",
       "  </tbody>\n",
       "</table>\n",
       "</div>"
      ],
      "text/plain": [
       "        cal  price\n",
       "おむすび    300    150\n",
       "サンドイッチ  400    300\n",
       "ナポリタン   800    600"
      ]
     },
     "execution_count": 12,
     "metadata": {},
     "output_type": "execute_result"
    }
   ],
   "source": [
    "# 特定の複数列を表示\n",
    "df_sample[['cal', 'price']]  # 指定した順に表示される"
   ]
  },
  {
   "cell_type": "code",
   "execution_count": 13,
   "metadata": {},
   "outputs": [
    {
     "data": {
      "text/html": [
       "<div>\n",
       "<style scoped>\n",
       "    .dataframe tbody tr th:only-of-type {\n",
       "        vertical-align: middle;\n",
       "    }\n",
       "\n",
       "    .dataframe tbody tr th {\n",
       "        vertical-align: top;\n",
       "    }\n",
       "\n",
       "    .dataframe thead th {\n",
       "        text-align: right;\n",
       "    }\n",
       "</style>\n",
       "<table border=\"1\" class=\"dataframe\">\n",
       "  <thead>\n",
       "    <tr style=\"text-align: right;\">\n",
       "      <th></th>\n",
       "      <th>price</th>\n",
       "      <th>cal</th>\n",
       "      <th>ingredients</th>\n",
       "    </tr>\n",
       "  </thead>\n",
       "  <tbody>\n",
       "    <tr>\n",
       "      <th>おむすび</th>\n",
       "      <td>150</td>\n",
       "      <td>300</td>\n",
       "      <td>rice</td>\n",
       "    </tr>\n",
       "    <tr>\n",
       "      <th>サンドイッチ</th>\n",
       "      <td>300</td>\n",
       "      <td>400</td>\n",
       "      <td>flour</td>\n",
       "    </tr>\n",
       "  </tbody>\n",
       "</table>\n",
       "</div>"
      ],
      "text/plain": [
       "        price  cal ingredients\n",
       "おむすび      150  300        rice\n",
       "サンドイッチ    300  400       flour"
      ]
     },
     "execution_count": 13,
     "metadata": {},
     "output_type": "execute_result"
    }
   ],
   "source": [
    "# 特定の行を削除\n",
    "df_sample.drop(['ナポリタン'], axis=0)"
   ]
  },
  {
   "cell_type": "code",
   "execution_count": 14,
   "metadata": {},
   "outputs": [
    {
     "data": {
      "text/html": [
       "<div>\n",
       "<style scoped>\n",
       "    .dataframe tbody tr th:only-of-type {\n",
       "        vertical-align: middle;\n",
       "    }\n",
       "\n",
       "    .dataframe tbody tr th {\n",
       "        vertical-align: top;\n",
       "    }\n",
       "\n",
       "    .dataframe thead th {\n",
       "        text-align: right;\n",
       "    }\n",
       "</style>\n",
       "<table border=\"1\" class=\"dataframe\">\n",
       "  <thead>\n",
       "    <tr style=\"text-align: right;\">\n",
       "      <th></th>\n",
       "      <th>price</th>\n",
       "      <th>cal</th>\n",
       "      <th>ingredients</th>\n",
       "    </tr>\n",
       "  </thead>\n",
       "  <tbody>\n",
       "    <tr>\n",
       "      <th>おむすび</th>\n",
       "      <td>150</td>\n",
       "      <td>300</td>\n",
       "      <td>rice</td>\n",
       "    </tr>\n",
       "    <tr>\n",
       "      <th>サンドイッチ</th>\n",
       "      <td>300</td>\n",
       "      <td>400</td>\n",
       "      <td>flour</td>\n",
       "    </tr>\n",
       "    <tr>\n",
       "      <th>ナポリタン</th>\n",
       "      <td>600</td>\n",
       "      <td>800</td>\n",
       "      <td>flour</td>\n",
       "    </tr>\n",
       "  </tbody>\n",
       "</table>\n",
       "</div>"
      ],
      "text/plain": [
       "        price  cal ingredients\n",
       "おむすび      150  300        rice\n",
       "サンドイッチ    300  400       flour\n",
       "ナポリタン     600  800       flour"
      ]
     },
     "execution_count": 14,
     "metadata": {},
     "output_type": "execute_result"
    }
   ],
   "source": [
    "# 上記で削除しても元のデータフレームはそのまま\n",
    "# (削除したデータフレームを使う場合は、新たな変数に代入する)\n",
    "df_sample"
   ]
  },
  {
   "cell_type": "code",
   "execution_count": 15,
   "metadata": {},
   "outputs": [
    {
     "data": {
      "text/html": [
       "<div>\n",
       "<style scoped>\n",
       "    .dataframe tbody tr th:only-of-type {\n",
       "        vertical-align: middle;\n",
       "    }\n",
       "\n",
       "    .dataframe tbody tr th {\n",
       "        vertical-align: top;\n",
       "    }\n",
       "\n",
       "    .dataframe thead th {\n",
       "        text-align: right;\n",
       "    }\n",
       "</style>\n",
       "<table border=\"1\" class=\"dataframe\">\n",
       "  <thead>\n",
       "    <tr style=\"text-align: right;\">\n",
       "      <th></th>\n",
       "      <th>price</th>\n",
       "      <th>ingredients</th>\n",
       "    </tr>\n",
       "  </thead>\n",
       "  <tbody>\n",
       "    <tr>\n",
       "      <th>おむすび</th>\n",
       "      <td>150</td>\n",
       "      <td>rice</td>\n",
       "    </tr>\n",
       "    <tr>\n",
       "      <th>サンドイッチ</th>\n",
       "      <td>300</td>\n",
       "      <td>flour</td>\n",
       "    </tr>\n",
       "    <tr>\n",
       "      <th>ナポリタン</th>\n",
       "      <td>600</td>\n",
       "      <td>flour</td>\n",
       "    </tr>\n",
       "  </tbody>\n",
       "</table>\n",
       "</div>"
      ],
      "text/plain": [
       "        price ingredients\n",
       "おむすび      150        rice\n",
       "サンドイッチ    300       flour\n",
       "ナポリタン     600       flour"
      ]
     },
     "execution_count": 15,
     "metadata": {},
     "output_type": "execute_result"
    }
   ],
   "source": [
    "# 特定の行を削除 (削除後のデータフレームを新たな変数に代入)\n",
    "df_dropped = df_sample.drop(['cal'], axis=1)\n",
    "df_dropped"
   ]
  },
  {
   "cell_type": "code",
   "execution_count": 16,
   "metadata": {},
   "outputs": [
    {
     "data": {
      "text/html": [
       "<div>\n",
       "<style scoped>\n",
       "    .dataframe tbody tr th:only-of-type {\n",
       "        vertical-align: middle;\n",
       "    }\n",
       "\n",
       "    .dataframe tbody tr th {\n",
       "        vertical-align: top;\n",
       "    }\n",
       "\n",
       "    .dataframe thead th {\n",
       "        text-align: right;\n",
       "    }\n",
       "</style>\n",
       "<table border=\"1\" class=\"dataframe\">\n",
       "  <thead>\n",
       "    <tr style=\"text-align: right;\">\n",
       "      <th></th>\n",
       "      <th>price</th>\n",
       "      <th>cal</th>\n",
       "      <th>ingredients</th>\n",
       "    </tr>\n",
       "  </thead>\n",
       "  <tbody>\n",
       "    <tr>\n",
       "      <th>おむすび</th>\n",
       "      <td>150</td>\n",
       "      <td>300</td>\n",
       "      <td>rice</td>\n",
       "    </tr>\n",
       "    <tr>\n",
       "      <th>サンドイッチ</th>\n",
       "      <td>300</td>\n",
       "      <td>400</td>\n",
       "      <td>flour</td>\n",
       "    </tr>\n",
       "    <tr>\n",
       "      <th>ナポリタン</th>\n",
       "      <td>600</td>\n",
       "      <td>800</td>\n",
       "      <td>flour</td>\n",
       "    </tr>\n",
       "  </tbody>\n",
       "</table>\n",
       "</div>"
      ],
      "text/plain": [
       "        price  cal ingredients\n",
       "おむすび      150  300        rice\n",
       "サンドイッチ    300  400       flour\n",
       "ナポリタン     600  800       flour"
      ]
     },
     "execution_count": 16,
     "metadata": {},
     "output_type": "execute_result"
    }
   ],
   "source": [
    "# 上記で削除しても元のデータフレームはそのまま\n",
    "df_sample"
   ]
  },
  {
   "cell_type": "code",
   "execution_count": 17,
   "metadata": {},
   "outputs": [
    {
     "name": "stdout",
     "output_type": "stream",
     "text": [
      "合計 1050\n",
      "平均 350.0\n",
      "中央値 300.0\n",
      "最小値 150\n",
      "最大値 600\n",
      "標準偏差 229.128784747792\n",
      "分散 52500.0\n"
     ]
    }
   ],
   "source": [
    "# 統計量を計算\n",
    "print('合計', df_sample['price'].sum())\n",
    "print('平均', df_sample['price'].mean())\n",
    "print('中央値', df_sample['price'].median())\n",
    "print('最小値', df_sample['price'].min())\n",
    "print('最大値', df_sample['price'].max())\n",
    "print('標準偏差', df_sample['price'].std())\n",
    "print('分散', df_sample['price'].var())"
   ]
  },
  {
   "cell_type": "code",
   "execution_count": 18,
   "metadata": {},
   "outputs": [
    {
     "name": "stdout",
     "output_type": "stream",
     "text": [
      "基本統計量\n"
     ]
    },
    {
     "data": {
      "text/html": [
       "<div>\n",
       "<style scoped>\n",
       "    .dataframe tbody tr th:only-of-type {\n",
       "        vertical-align: middle;\n",
       "    }\n",
       "\n",
       "    .dataframe tbody tr th {\n",
       "        vertical-align: top;\n",
       "    }\n",
       "\n",
       "    .dataframe thead th {\n",
       "        text-align: right;\n",
       "    }\n",
       "</style>\n",
       "<table border=\"1\" class=\"dataframe\">\n",
       "  <thead>\n",
       "    <tr style=\"text-align: right;\">\n",
       "      <th></th>\n",
       "      <th>price</th>\n",
       "      <th>cal</th>\n",
       "    </tr>\n",
       "  </thead>\n",
       "  <tbody>\n",
       "    <tr>\n",
       "      <th>count</th>\n",
       "      <td>3.000000</td>\n",
       "      <td>3.000000</td>\n",
       "    </tr>\n",
       "    <tr>\n",
       "      <th>mean</th>\n",
       "      <td>350.000000</td>\n",
       "      <td>500.000000</td>\n",
       "    </tr>\n",
       "    <tr>\n",
       "      <th>std</th>\n",
       "      <td>229.128785</td>\n",
       "      <td>264.575131</td>\n",
       "    </tr>\n",
       "    <tr>\n",
       "      <th>min</th>\n",
       "      <td>150.000000</td>\n",
       "      <td>300.000000</td>\n",
       "    </tr>\n",
       "    <tr>\n",
       "      <th>25%</th>\n",
       "      <td>225.000000</td>\n",
       "      <td>350.000000</td>\n",
       "    </tr>\n",
       "    <tr>\n",
       "      <th>50%</th>\n",
       "      <td>300.000000</td>\n",
       "      <td>400.000000</td>\n",
       "    </tr>\n",
       "    <tr>\n",
       "      <th>75%</th>\n",
       "      <td>450.000000</td>\n",
       "      <td>600.000000</td>\n",
       "    </tr>\n",
       "    <tr>\n",
       "      <th>max</th>\n",
       "      <td>600.000000</td>\n",
       "      <td>800.000000</td>\n",
       "    </tr>\n",
       "  </tbody>\n",
       "</table>\n",
       "</div>"
      ],
      "text/plain": [
       "            price         cal\n",
       "count    3.000000    3.000000\n",
       "mean   350.000000  500.000000\n",
       "std    229.128785  264.575131\n",
       "min    150.000000  300.000000\n",
       "25%    225.000000  350.000000\n",
       "50%    300.000000  400.000000\n",
       "75%    450.000000  600.000000\n",
       "max    600.000000  800.000000"
      ]
     },
     "execution_count": 18,
     "metadata": {},
     "output_type": "execute_result"
    }
   ],
   "source": [
    "# 基本統計量を表示\n",
    "print('基本統計量')\n",
    "df_sample.describe()"
   ]
  },
  {
   "cell_type": "code",
   "execution_count": 19,
   "metadata": {},
   "outputs": [
    {
     "data": {
      "text/html": [
       "<div>\n",
       "<style scoped>\n",
       "    .dataframe tbody tr th:only-of-type {\n",
       "        vertical-align: middle;\n",
       "    }\n",
       "\n",
       "    .dataframe tbody tr th {\n",
       "        vertical-align: top;\n",
       "    }\n",
       "\n",
       "    .dataframe thead th {\n",
       "        text-align: right;\n",
       "    }\n",
       "</style>\n",
       "<table border=\"1\" class=\"dataframe\">\n",
       "  <thead>\n",
       "    <tr style=\"text-align: right;\">\n",
       "      <th></th>\n",
       "      <th>price</th>\n",
       "      <th>cal</th>\n",
       "      <th>ingredients</th>\n",
       "    </tr>\n",
       "  </thead>\n",
       "  <tbody>\n",
       "    <tr>\n",
       "      <th>おむすび</th>\n",
       "      <td>150</td>\n",
       "      <td>300</td>\n",
       "      <td>rice</td>\n",
       "    </tr>\n",
       "    <tr>\n",
       "      <th>サンドイッチ</th>\n",
       "      <td>300</td>\n",
       "      <td>400</td>\n",
       "      <td>flour</td>\n",
       "    </tr>\n",
       "    <tr>\n",
       "      <th>ナポリタン</th>\n",
       "      <td>600</td>\n",
       "      <td>800</td>\n",
       "      <td>flour</td>\n",
       "    </tr>\n",
       "  </tbody>\n",
       "</table>\n",
       "</div>"
      ],
      "text/plain": [
       "        price  cal ingredients\n",
       "おむすび      150  300        rice\n",
       "サンドイッチ    300  400       flour\n",
       "ナポリタン     600  800       flour"
      ]
     },
     "execution_count": 19,
     "metadata": {},
     "output_type": "execute_result"
    }
   ],
   "source": [
    "# 元のデータフレームを表示\n",
    "df_sample"
   ]
  },
  {
   "cell_type": "code",
   "execution_count": 20,
   "metadata": {},
   "outputs": [
    {
     "data": {
      "text/html": [
       "<div>\n",
       "<style scoped>\n",
       "    .dataframe tbody tr th:only-of-type {\n",
       "        vertical-align: middle;\n",
       "    }\n",
       "\n",
       "    .dataframe tbody tr th {\n",
       "        vertical-align: top;\n",
       "    }\n",
       "\n",
       "    .dataframe thead th {\n",
       "        text-align: right;\n",
       "    }\n",
       "</style>\n",
       "<table border=\"1\" class=\"dataframe\">\n",
       "  <thead>\n",
       "    <tr style=\"text-align: right;\">\n",
       "      <th></th>\n",
       "      <th>price</th>\n",
       "      <th>cal</th>\n",
       "      <th>ingredients_flour</th>\n",
       "      <th>ingredients_rice</th>\n",
       "    </tr>\n",
       "  </thead>\n",
       "  <tbody>\n",
       "    <tr>\n",
       "      <th>おむすび</th>\n",
       "      <td>150</td>\n",
       "      <td>300</td>\n",
       "      <td>False</td>\n",
       "      <td>True</td>\n",
       "    </tr>\n",
       "    <tr>\n",
       "      <th>サンドイッチ</th>\n",
       "      <td>300</td>\n",
       "      <td>400</td>\n",
       "      <td>True</td>\n",
       "      <td>False</td>\n",
       "    </tr>\n",
       "    <tr>\n",
       "      <th>ナポリタン</th>\n",
       "      <td>600</td>\n",
       "      <td>800</td>\n",
       "      <td>True</td>\n",
       "      <td>False</td>\n",
       "    </tr>\n",
       "  </tbody>\n",
       "</table>\n",
       "</div>"
      ],
      "text/plain": [
       "        price  cal  ingredients_flour  ingredients_rice\n",
       "おむすび      150  300              False              True\n",
       "サンドイッチ    300  400               True             False\n",
       "ナポリタン     600  800               True             False"
      ]
     },
     "execution_count": 20,
     "metadata": {},
     "output_type": "execute_result"
    }
   ],
   "source": [
    "# ダミー変数化したデータフレームを表示\n",
    "pd.get_dummies(df_sample, drop_first=False)"
   ]
  },
  {
   "cell_type": "code",
   "execution_count": 21,
   "metadata": {},
   "outputs": [
    {
     "data": {
      "text/html": [
       "<div>\n",
       "<style scoped>\n",
       "    .dataframe tbody tr th:only-of-type {\n",
       "        vertical-align: middle;\n",
       "    }\n",
       "\n",
       "    .dataframe tbody tr th {\n",
       "        vertical-align: top;\n",
       "    }\n",
       "\n",
       "    .dataframe thead th {\n",
       "        text-align: right;\n",
       "    }\n",
       "</style>\n",
       "<table border=\"1\" class=\"dataframe\">\n",
       "  <thead>\n",
       "    <tr style=\"text-align: right;\">\n",
       "      <th></th>\n",
       "      <th>price</th>\n",
       "      <th>cal</th>\n",
       "    </tr>\n",
       "  </thead>\n",
       "  <tbody>\n",
       "    <tr>\n",
       "      <th>ハンバーガー</th>\n",
       "      <td>300</td>\n",
       "      <td>500</td>\n",
       "    </tr>\n",
       "    <tr>\n",
       "      <th>フライドポテト</th>\n",
       "      <td>200</td>\n",
       "      <td>300</td>\n",
       "    </tr>\n",
       "  </tbody>\n",
       "</table>\n",
       "</div>"
      ],
      "text/plain": [
       "         price  cal\n",
       "ハンバーガー     300  500\n",
       "フライドポテト    200  300"
      ]
     },
     "execution_count": 21,
     "metadata": {},
     "output_type": "execute_result"
    }
   ],
   "source": [
    "# [参考] データフレームはプログラム中でも作成可能 (下はその一例)\n",
    "df_sample2 = pd.DataFrame([[300, 500], [200, 300]], index=['ハンバーガー', 'フライドポテト'], columns=['price', 'cal'])\n",
    "df_sample2"
   ]
  },
  {
   "cell_type": "code",
   "execution_count": 22,
   "metadata": {},
   "outputs": [],
   "source": [
    "### データフレームの結合(1) 同じ属性を持つデータを結合 ###\n",
    "# エクセルファイルのシートをpandasのデータフレームに読み込む\n",
    "df_c1 = pd.read_excel('ml03_df_2025.xlsx', sheet_name='c1')\n",
    "df_c2 = pd.read_excel('ml03_df_2025.xlsx', sheet_name='c2')\n",
    "# データフレームを結合(同じ属性(列)にデータを追加)\n",
    "df_c3 = pd.concat([df_c1, df_c2])\n",
    "# 結合した結果をエクセルファイルのシートに出力 (すでにシートがある場合は上書きする)\n",
    "with pd.ExcelWriter('ml03_df_2025_res.xlsx', mode='a', if_sheet_exists='replace') as writer:\n",
    "    df_c3.to_excel(writer, sheet_name='c3')"
   ]
  },
  {
   "cell_type": "code",
   "execution_count": 23,
   "metadata": {},
   "outputs": [],
   "source": [
    "### データフレームの結合(2) 同じキーを持つデータを結合 ###\n",
    "# エクセルファイルのシートをpandasのデータフレームに読み込む\n",
    "df_m1 = pd.read_excel('ml03_df_2025.xlsx', sheet_name='m1')\n",
    "df_m2 = pd.read_excel('ml03_df_2025.xlsx', sheet_name='m2')\n",
    "# データフレームを結合(同じキー(行)にデータを追加)\n",
    "df_m3 = pd.merge(df_m1, df_m2, on='key')\n",
    "# 結合した結果をエクセルファイルのシートに出力\n",
    "with pd.ExcelWriter('ml03_df_2025_res.xlsx', mode='a', if_sheet_exists='replace') as writer:\n",
    "    df_m3.to_excel(writer, sheet_name='m3')"
   ]
  },
  {
   "cell_type": "code",
   "execution_count": 24,
   "metadata": {},
   "outputs": [],
   "source": [
    "### データフレームの結合(3) キーが共通のデータの属性を結合 ###\n",
    "# エクセルファイルのシートをpandasのデータフレームに読み込む\n",
    "df_j1 = pd.read_excel('ml03_df_2025.xlsx', sheet_name='j1')\n",
    "df_j2 = pd.read_excel('ml03_df_2025.xlsx', sheet_name='j2')\n",
    "# データフレームを結合(キーが共通のデータの属性を結合)\n",
    "df_j3_1 = pd.merge(df_j1, df_j2, left_on='key', right_on='key')\n",
    "# 結合した結果をエクセルファイルのシートに出力\n",
    "with pd.ExcelWriter('ml03_df_2025_res.xlsx', mode='a', if_sheet_exists='replace') as writer:\n",
    "    df_j3_1.to_excel(writer, sheet_name='j3_1')"
   ]
  },
  {
   "cell_type": "code",
   "execution_count": 25,
   "metadata": {},
   "outputs": [],
   "source": [
    "### データフレームの結合(4) 左のキーのみを利用して属性を結合\n",
    "# エクセルファイルのシートをpandasのデータフレームに読み込む\n",
    "df_j1 = pd.read_excel('ml03_df_2025.xlsx', sheet_name='j1')\n",
    "df_j2 = pd.read_excel('ml03_df_2025.xlsx', sheet_name='j2')\n",
    "# データフレームを結合(左のキーのみを利用して属性を結合)\n",
    "df_j3_2 = pd.merge(df_j1, df_j2, left_on='key', right_on='key', how='left')\n",
    "with pd.ExcelWriter('ml03_df_2025_res.xlsx', mode='a', if_sheet_exists='replace') as writer:\n",
    "    df_j3_2.to_excel(writer, sheet_name='j3_2')"
   ]
  },
  {
   "cell_type": "code",
   "execution_count": 26,
   "metadata": {},
   "outputs": [],
   "source": [
    "### データフレームの結合(5) 右のキーのみを利用して属性を結合 ###\n",
    "# エクセルファイルのシートをpandasのデータフレームに読み込む\n",
    "df_j1 = pd.read_excel('ml03_df_2025.xlsx', sheet_name='j1')\n",
    "df_j2 = pd.read_excel('ml03_df_2025.xlsx', sheet_name='j2')\n",
    "# データフレームを結合(右のキーのみを利用して属性を結合)\n",
    "df_j3_3 = pd.merge(df_j1, df_j2, left_on='key', right_on='key', how='right')\n",
    "with pd.ExcelWriter('ml03_df_2025_res.xlsx', mode='a', if_sheet_exists='replace') as writer:\n",
    "    df_j3_3.to_excel(writer, sheet_name='j3_3')"
   ]
  },
  {
   "cell_type": "code",
   "execution_count": 27,
   "metadata": {},
   "outputs": [],
   "source": [
    "### データフレームの結合(6) 両方のキーの和を利用して属性を結合 ###\n",
    "# エクセルファイルのシートをpandasのデータフレームに読み込む\n",
    "df_j1 = pd.read_excel('ml03_df_2025.xlsx', sheet_name='j1')\n",
    "df_j2 = pd.read_excel('ml03_df_2025.xlsx', sheet_name='j2')\n",
    "# データフレームを結合(両方のキーの和を利用して属性を結合)\n",
    "df_j3_4 = pd.merge(df_j1, df_j2, left_on='key', right_on='key', how='outer')\n",
    "with pd.ExcelWriter('ml03_df_2025_res.xlsx', mode='a', if_sheet_exists='replace') as writer:\n",
    "    df_j3_4.to_excel(writer, sheet_name='j3_4')"
   ]
  },
  {
   "cell_type": "code",
   "execution_count": 28,
   "metadata": {},
   "outputs": [
    {
     "name": "stdout",
     "output_type": "stream",
     "text": [
      "## 0) オリジナルデータ\n",
      "   A     B     C\n",
      "0  1   2.0   3.0\n",
      "1  2   4.0   NaN\n",
      "2  3   NaN   9.0\n",
      "3  4   8.0   NaN\n",
      "4  5  10.0  15.0\n",
      "## 1) リストワイズ削除\n",
      "   A     B     C\n",
      "0  1   2.0   3.0\n",
      "4  5  10.0  15.0\n",
      "## 2) ペアワイズ削除\n",
      "   A\n",
      "0  1\n",
      "1  2\n",
      "2  3\n",
      "3  4\n",
      "4  5\n",
      "## 3) 代表値(平均)を挿入\n",
      "   A     B     C\n",
      "0  1   2.0   3.0\n",
      "1  2   4.0   9.0\n",
      "2  3   6.0   9.0\n",
      "3  4   8.0   9.0\n",
      "4  5  10.0  15.0\n",
      "## 4) 前後の値で線形補間\n",
      "   A     B     C\n",
      "0  1   2.0   3.0\n",
      "1  2   4.0   6.0\n",
      "2  3   6.0   9.0\n",
      "3  4   8.0  12.0\n",
      "4  5  10.0  15.0\n"
     ]
    }
   ],
   "source": [
    "df_n = pd.read_excel('ml03_df_2025.xlsx', sheet_name='n')\n",
    "print('## 0) オリジナルデータ')\n",
    "print(df_n)\n",
    "print('## 1) リストワイズ削除')\n",
    "print(df_n.dropna(axis=0))\n",
    "print('## 2) ペアワイズ削除')\n",
    "print(df_n.dropna(axis=1))\n",
    "print('## 3) 代表値(平均)を挿入')\n",
    "print(df_n.fillna(df_n.mean()))\n",
    "print('## 4) 前後の値で線形補間')\n",
    "print(df_n.interpolate())"
   ]
  },
  {
   "cell_type": "markdown",
   "metadata": {},
   "source": [
    "### ■ 練習問題 ■\n",
    "\n",
    "エクセルファイル ml03_df.xlsx のワークシート saitama_temp_202208 には、2022年8月各日のさいたま市の平均気温・最高気温・最低気温が格納されています。次のコードブロックを使い、下の問題に答えてください。(答えはWebClassに登録してください)\n",
    "\n",
    "1. 平均気温の平均\n",
    "2. 最高気温の最高\n",
    "3. 最低気温が25度以上、最高気温が35度以上の日の日数"
   ]
  },
  {
   "cell_type": "code",
   "execution_count": 29,
   "metadata": {},
   "outputs": [
    {
     "data": {
      "text/html": [
       "<div>\n",
       "<style scoped>\n",
       "    .dataframe tbody tr th:only-of-type {\n",
       "        vertical-align: middle;\n",
       "    }\n",
       "\n",
       "    .dataframe tbody tr th {\n",
       "        vertical-align: top;\n",
       "    }\n",
       "\n",
       "    .dataframe thead th {\n",
       "        text-align: right;\n",
       "    }\n",
       "</style>\n",
       "<table border=\"1\" class=\"dataframe\">\n",
       "  <thead>\n",
       "    <tr style=\"text-align: right;\">\n",
       "      <th></th>\n",
       "      <th>平均気温</th>\n",
       "      <th>最高気温</th>\n",
       "      <th>最低気温</th>\n",
       "      <th>Unnamed: 4</th>\n",
       "      <th>Unnamed: 5</th>\n",
       "      <th>Unnamed: 6</th>\n",
       "      <th>Unnamed: 7</th>\n",
       "      <th>Unnamed: 8</th>\n",
       "      <th>Unnamed: 9</th>\n",
       "      <th>Unnamed: 10</th>\n",
       "      <th>Unnamed: 11</th>\n",
       "      <th>Unnamed: 12</th>\n",
       "      <th>Unnamed: 13</th>\n",
       "    </tr>\n",
       "    <tr>\n",
       "      <th>年月日</th>\n",
       "      <th></th>\n",
       "      <th></th>\n",
       "      <th></th>\n",
       "      <th></th>\n",
       "      <th></th>\n",
       "      <th></th>\n",
       "      <th></th>\n",
       "      <th></th>\n",
       "      <th></th>\n",
       "      <th></th>\n",
       "      <th></th>\n",
       "      <th></th>\n",
       "      <th></th>\n",
       "    </tr>\n",
       "  </thead>\n",
       "  <tbody>\n",
       "    <tr>\n",
       "      <th>2025-08-01</th>\n",
       "      <td>27.2</td>\n",
       "      <td>30.8</td>\n",
       "      <td>24.0</td>\n",
       "      <td>NaN</td>\n",
       "      <td>NaN</td>\n",
       "      <td>NaN</td>\n",
       "      <td>NaN</td>\n",
       "      <td>NaN</td>\n",
       "      <td>NaN</td>\n",
       "      <td>NaN</td>\n",
       "      <td>NaN</td>\n",
       "      <td>NaN</td>\n",
       "      <td>NaN</td>\n",
       "    </tr>\n",
       "    <tr>\n",
       "      <th>2025-08-02</th>\n",
       "      <td>30.3</td>\n",
       "      <td>37.6</td>\n",
       "      <td>25.8</td>\n",
       "      <td>NaN</td>\n",
       "      <td>NaN</td>\n",
       "      <td>NaN</td>\n",
       "      <td>NaN</td>\n",
       "      <td>NaN</td>\n",
       "      <td>NaN</td>\n",
       "      <td>NaN</td>\n",
       "      <td>NaN</td>\n",
       "      <td>NaN</td>\n",
       "      <td>NaN</td>\n",
       "    </tr>\n",
       "    <tr>\n",
       "      <th>2025-08-03</th>\n",
       "      <td>31.2</td>\n",
       "      <td>36.0</td>\n",
       "      <td>27.2</td>\n",
       "      <td>NaN</td>\n",
       "      <td>NaN</td>\n",
       "      <td>NaN</td>\n",
       "      <td>NaN</td>\n",
       "      <td>NaN</td>\n",
       "      <td>NaN</td>\n",
       "      <td>NaN</td>\n",
       "      <td>NaN</td>\n",
       "      <td>NaN</td>\n",
       "      <td>NaN</td>\n",
       "    </tr>\n",
       "    <tr>\n",
       "      <th>2025-08-04</th>\n",
       "      <td>31.7</td>\n",
       "      <td>37.8</td>\n",
       "      <td>26.4</td>\n",
       "      <td>NaN</td>\n",
       "      <td>NaN</td>\n",
       "      <td>NaN</td>\n",
       "      <td>NaN</td>\n",
       "      <td>NaN</td>\n",
       "      <td>NaN</td>\n",
       "      <td>NaN</td>\n",
       "      <td>NaN</td>\n",
       "      <td>NaN</td>\n",
       "      <td>NaN</td>\n",
       "    </tr>\n",
       "    <tr>\n",
       "      <th>2025-08-05</th>\n",
       "      <td>33.3</td>\n",
       "      <td>39.7</td>\n",
       "      <td>26.9</td>\n",
       "      <td>NaN</td>\n",
       "      <td>NaN</td>\n",
       "      <td>NaN</td>\n",
       "      <td>NaN</td>\n",
       "      <td>NaN</td>\n",
       "      <td>NaN</td>\n",
       "      <td>NaN</td>\n",
       "      <td>NaN</td>\n",
       "      <td>NaN</td>\n",
       "      <td>NaN</td>\n",
       "    </tr>\n",
       "  </tbody>\n",
       "</table>\n",
       "</div>"
      ],
      "text/plain": [
       "            平均気温  最高気温  最低気温  Unnamed: 4  Unnamed: 5  Unnamed: 6  Unnamed: 7  \\\n",
       "年月日                                                                            \n",
       "2025-08-01  27.2  30.8  24.0         NaN         NaN         NaN         NaN   \n",
       "2025-08-02  30.3  37.6  25.8         NaN         NaN         NaN         NaN   \n",
       "2025-08-03  31.2  36.0  27.2         NaN         NaN         NaN         NaN   \n",
       "2025-08-04  31.7  37.8  26.4         NaN         NaN         NaN         NaN   \n",
       "2025-08-05  33.3  39.7  26.9         NaN         NaN         NaN         NaN   \n",
       "\n",
       "            Unnamed: 8  Unnamed: 9  Unnamed: 10  Unnamed: 11  Unnamed: 12  \\\n",
       "年月日                                                                         \n",
       "2025-08-01         NaN         NaN          NaN          NaN          NaN   \n",
       "2025-08-02         NaN         NaN          NaN          NaN          NaN   \n",
       "2025-08-03         NaN         NaN          NaN          NaN          NaN   \n",
       "2025-08-04         NaN         NaN          NaN          NaN          NaN   \n",
       "2025-08-05         NaN         NaN          NaN          NaN          NaN   \n",
       "\n",
       "           Unnamed: 13  \n",
       "年月日                     \n",
       "2025-08-01         NaN  \n",
       "2025-08-02         NaN  \n",
       "2025-08-03         NaN  \n",
       "2025-08-04         NaN  \n",
       "2025-08-05         NaN  "
      ]
     },
     "execution_count": 29,
     "metadata": {},
     "output_type": "execute_result"
    }
   ],
   "source": [
    "# エクセルファイルとワークシートの確認\n",
    "df_temp = pd.read_excel('ml03_df_2025.xlsx', sheet_name='saitama_temp_202508', index_col=0)\n",
    "df_temp.head()"
   ]
  },
  {
   "cell_type": "code",
   "execution_count": 30,
   "metadata": {},
   "outputs": [
    {
     "data": {
      "text/plain": [
       "np.float64(29.696774193548386)"
      ]
     },
     "execution_count": 30,
     "metadata": {},
     "output_type": "execute_result"
    }
   ],
   "source": [
    "#1. 平均気温の平均 \n",
    "# (WebClassには四捨五入して小数第１位までを登録)\n",
    "\n",
    "df_temp['平均気温'].mean()"
   ]
  },
  {
   "cell_type": "code",
   "execution_count": 31,
   "metadata": {},
   "outputs": [
    {
     "data": {
      "text/plain": [
       "np.float64(39.7)"
      ]
     },
     "execution_count": 31,
     "metadata": {},
     "output_type": "execute_result"
    }
   ],
   "source": [
    "#2. 最高気温の最高\n",
    "\n",
    "df_temp['最高気温'].max()"
   ]
  },
  {
   "cell_type": "code",
   "execution_count": 32,
   "metadata": {},
   "outputs": [
    {
     "data": {
      "text/plain": [
       "np.int64(15)"
      ]
     },
     "execution_count": 32,
     "metadata": {},
     "output_type": "execute_result"
    }
   ],
   "source": [
    "#3. 最低気温が25度以上、最高気温が35度以上の日の日数\n",
    "\n",
    "df_temp[(df_temp['最低気温'] >= 25.0) & (df_temp['最高気温'] >= 35.0)]['平均気温'].count()"
   ]
  },
  {
   "cell_type": "code",
   "execution_count": null,
   "metadata": {},
   "outputs": [],
   "source": []
  }
 ],
 "metadata": {
  "kernelspec": {
   "display_name": "venv",
   "language": "python",
   "name": "python3"
  },
  "language_info": {
   "codemirror_mode": {
    "name": "ipython",
    "version": 3
   },
   "file_extension": ".py",
   "mimetype": "text/x-python",
   "name": "python",
   "nbconvert_exporter": "python",
   "pygments_lexer": "ipython3",
   "version": "3.13.2"
  },
  "orig_nbformat": 4
 },
 "nbformat": 4,
 "nbformat_minor": 2
}
