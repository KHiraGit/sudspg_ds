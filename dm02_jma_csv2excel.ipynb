{
 "cells": [
  {
   "attachments": {},
   "cell_type": "markdown",
   "metadata": {},
   "source": [
    "* データマイニング特別演習\n",
    "* 気象庁からダウンロードしたさいたま市の気温データを分析"
   ]
  },
  {
   "cell_type": "code",
   "execution_count": 1,
   "metadata": {},
   "outputs": [],
   "source": [
    "# google colab の場合は以下のコメントアウトを外す\n",
    "#!wget https://github.com/KHiraGit/sudspg_ds/raw/main/dm02_data.zip\n",
    "#!unzip -d data dm02_data.zip"
   ]
  },
  {
   "cell_type": "code",
   "execution_count": 2,
   "metadata": {},
   "outputs": [],
   "source": [
    "# 利用するライブラリをインポート\n",
    "import os\n",
    "import glob\n",
    "import re\n",
    "import csv\n",
    "import openpyxl"
   ]
  },
  {
   "cell_type": "code",
   "execution_count": 3,
   "metadata": {},
   "outputs": [
    {
     "name": "stdout",
     "output_type": "stream",
     "text": [
      "8/1 {'2013': 0, '2014': 2, '2015': 5, '2016': 0, '2017': 0, '2018': 4, '2019': 3, '2020': 0, '2021': 1, '2022': 6, '2023': 0, '2024': 0}\n"
     ]
    }
   ],
   "source": [
    "# glob 関数を使って dataフォルダの csvファイルのリストを作成 (年でソート)\n",
    "files = sorted(glob.glob(os.path.join('data', '*.csv')))\n",
    "\n",
    "dict = {}\n",
    "for file in files: # リストのファイルを１つずつ順に処理\n",
    "    with open(file, encoding='shift-jis') as f:\n",
    "        reader = csv.reader(f)\n",
    "        for row in reader:\n",
    "            if len(row) == 0 or not re.search(r'^\\d\\d\\d\\d', row[0]): #  or not re.search(r'^\\d\\d\\.\\d', row[1])\n",
    "                continue # 空行、データ行以外、欠損値の行はスキップ\n",
    "            m = re.search(r'^(\\d\\d\\d\\d)/(\\d+/\\d+)', row[0])\n",
    "            if m is None:\n",
    "                continue\n",
    "            year = m.group(1)\n",
    "            date = m.group(2)\n",
    "            if re.search(r'\\d\\d\\.\\d', row[1]):\n",
    "                temp = float(row[1])\n",
    "            else:\n",
    "                temp = -1.0\n",
    "            if date not in dict.keys():\n",
    "                dict[date] = {}\n",
    "            if year not in dict[date].keys():\n",
    "                dict[date][year] = 0\n",
    "            if re.search(r'\\d\\d\\.\\d', row[1]) and float(row[1]) >= 35.0: # 35度以上の時間帯を日ごとにカウント\n",
    "                dict[date][year] = dict[date][year] + 1\n",
    "\n",
    "# 確認用に 8/1 のデータを表示\n",
    "print('8/1', dict['8/1'])"
   ]
  },
  {
   "cell_type": "code",
   "execution_count": 4,
   "metadata": {},
   "outputs": [],
   "source": [
    "wb = openpyxl.Workbook()\n",
    "ws = wb.active\n",
    "\n",
    "# header を作成\n",
    "for key_1 in dict:\n",
    "    _tmp = ['']\n",
    "    for key_2 in dict[key_1].keys():\n",
    "        _tmp.append(key_2)\n",
    "ws.append(_tmp)\n",
    "\n",
    "# データ本体を作成\n",
    "for key_1 in dict:\n",
    "    _tmp = [key_1]\n",
    "    for key_2 in dict[key_1].keys():\n",
    "        _tmp.append(dict[key_1][key_2])\n",
    "    ws.append(_tmp)\n",
    "\n",
    "chart1 = openpyxl.chart.BarChart()\n",
    "chart1.height = 20 # 作成するグラフの高さを設定\n",
    "chart1.width = 30 # 作成するグラフの幅を設定\n",
    "chart1.type = \"col\"\n",
    "chart1.grouping = \"stacked\" # 積み上げ棒グラフに設定\n",
    "chart1.title = \"35度以上の時間数\" # グラフタイトルの設定\n",
    "chart1.y_axis.title = '日数' # y軸のラベルを設定\n",
    "chart1.x_axis.title = '日付' # x軸のラベルを設定\n",
    "chart1.overlap = 100 # 棒のオーバーラップを設定\n",
    "# データの範囲、カテゴリーの範囲を設定\n",
    "data = openpyxl.chart.Reference(ws, min_col=2, min_row=1, max_row=94, max_col=12)\n",
    "cats = openpyxl.chart.Reference(ws, min_col=1, min_row=2, max_row=94)\n",
    "chart1.add_data(data, titles_from_data=True)\n",
    "chart1.set_categories(cats)\n",
    "chart1.shape = 4\n",
    "ws.add_chart(chart1, \"N2\") # グラフの出力先を設定\n",
    "# 条件付き書式を設定 (時間数が多くなると赤背景で表示)\n",
    "rule = openpyxl.formatting.rule.ColorScaleRule(\n",
    "    start_type='min',\n",
    "    start_color='FFFFFF',\n",
    "    end_type='max',\n",
    "    end_color='FF0000'\n",
    ")\n",
    "ws.conditional_formatting.add('B2:L94', rule)\n",
    "\n",
    "wb.save(os.path.join('data', 'jma_data.xlsx'))"
   ]
  }
 ],
 "metadata": {
  "kernelspec": {
   "display_name": "venv",
   "language": "python",
   "name": "python3"
  },
  "language_info": {
   "codemirror_mode": {
    "name": "ipython",
    "version": 3
   },
   "file_extension": ".py",
   "mimetype": "text/x-python",
   "name": "python",
   "nbconvert_exporter": "python",
   "pygments_lexer": "ipython3",
   "version": "3.9.9"
  },
  "orig_nbformat": 4
 },
 "nbformat": 4,
 "nbformat_minor": 2
}
