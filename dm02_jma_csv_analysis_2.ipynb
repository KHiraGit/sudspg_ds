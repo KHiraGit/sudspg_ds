{
 "cells": [
  {
   "attachments": {},
   "cell_type": "markdown",
   "metadata": {},
   "source": [
    "* データマイニング特別演習\n",
    "* 気象庁からダウンロードしたさいたま市の気温データを分析"
   ]
  },
  {
   "cell_type": "code",
   "execution_count": null,
   "metadata": {},
   "outputs": [],
   "source": [
    "# google colab の場合は以下のコメントアウトを外す\n",
    "#!wget https://github.com/KHiraGit/sudspg_ds/raw/main/dm02_data_6.zip\n",
    "#!unzip dm02_data_6.zip"
   ]
  },
  {
   "cell_type": "code",
   "execution_count": null,
   "metadata": {},
   "outputs": [],
   "source": [
    "# 利用するライブラリをインポート\n",
    "import os\n",
    "import glob\n",
    "import pandas as pd"
   ]
  },
  {
   "cell_type": "code",
   "execution_count": null,
   "metadata": {},
   "outputs": [],
   "source": [
    "data_folder = os.path.join('dm02_data_6') # データを格納したフォルダ名\n",
    "points = ['saitama', 'osaka', 'tajimi', 'fukuoka', 'naha', 'asahikawa'] # 比較対象の観測地点のフォルダ名\n",
    "df_pos = {} # データフレームを格納する辞書\n",
    "\n",
    "# 各地点のデータをデータフレームに読み込む\n",
    "for point in points:\n",
    "    csv_files = sorted(glob.glob(os.path.join(data_folder, point, 'data-20??.csv'))) # 読み込むファイルを設定\n",
    "    for csv_file in csv_files:\n",
    "        df = pd.read_csv(csv_file, \n",
    "                         header=3, # 3行目までを無視、4行目を列名として設定\n",
    "                         names=['年月日時', '気温', '品質情報', '均質番号'], # 列名を設定\n",
    "                         encoding='shift-jis')\n",
    "        df['年月日時'] = pd.to_datetime(df['年月日時']) # '年月日時' を datetime型に変換\n",
    "        if point in df_pos.keys():\n",
    "            df_pos[point] = df_pos[point].append(df) # データフレームを追加\n",
    "        else:\n",
    "            df_pos[point] = df.copy() # データフレームを作成(コピー)\n",
    "        \n",
    "    # 読み込んだ各地点のデータ数を確認\n",
    "    print(point, len(df_pos[point]))"
   ]
  },
  {
   "cell_type": "code",
   "execution_count": null,
   "metadata": {},
   "outputs": [],
   "source": [
    "# 2022年の各地点の気温の折れ線グラフを作成\n",
    "import matplotlib.pyplot as plt\n",
    "\n",
    "fig = plt.figure(figsize=(15, 5))\n",
    "for point in points:\n",
    "    plt.plot(df_pos[point][(df_pos[point]['年月日時'].dt.year==2022)]['気温'], label=point)\n",
    "plt.legend()\n",
    "plt.show()\n"
   ]
  },
  {
   "cell_type": "code",
   "execution_count": null,
   "metadata": {},
   "outputs": [],
   "source": [
    "# 2022年の各地点の気温の折れ線グラフを作成\n",
    "import matplotlib.pyplot as plt\n",
    "\n",
    "fig = plt.figure(figsize=(20, 10))\n",
    "_data = 0\n",
    "for point in points:\n",
    "    _data = _data + 1\n",
    "    ax = fig.add_subplot(2,3,_data)\n",
    "    df_pos[point][(df_pos[point]['年月日時'].dt.year==2022)].plot(y='気温', ylim=[0,45], label=point, ax=ax)\n",
    "plt.show()"
   ]
  },
  {
   "cell_type": "code",
   "execution_count": null,
   "metadata": {},
   "outputs": [],
   "source": [
    "# 各地点の35度以上のデータを抽出し、気温のヒストグラムを作成\n",
    "fig = plt.figure(figsize=(20, 10))\n",
    "_data = 0\n",
    "print('## 各観測地点の35度以上のデータ数')\n",
    "for point in points:\n",
    "    # 35度以上のデータを抽出\n",
    "    df_35 = df_pos[point][df_pos[point]['気温'] >= 35] # 条件指定で抽出\n",
    "    print(point, len(df_35)) # df_35 の行数を表示\n",
    "    # ヒストグラムを作成\n",
    "    _data = _data + 1\n",
    "    ax = fig.add_subplot(2,3,_data)\n",
    "    df_pos[point]['気温'].hist(label=point, bins=14, range=[5,40], ax=ax)\n",
    "    ax.legend()\n",
    "plt.show()"
   ]
  }
 ],
 "metadata": {
  "kernelspec": {
   "display_name": "venv",
   "language": "python",
   "name": "python3"
  },
  "language_info": {
   "codemirror_mode": {
    "name": "ipython",
    "version": 3
   },
   "file_extension": ".py",
   "mimetype": "text/x-python",
   "name": "python",
   "nbconvert_exporter": "python",
   "pygments_lexer": "ipython3",
   "version": "3.9.7"
  },
  "orig_nbformat": 4
 },
 "nbformat": 4,
 "nbformat_minor": 2
}
