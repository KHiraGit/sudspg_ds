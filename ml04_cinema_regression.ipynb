{
 "cells": [
  {
   "cell_type": "markdown",
   "metadata": {},
   "source": [
    "* 映画の興行収入を予測\n",
    "  * データ\n",
    "    * (URL)\n",
    "      * データは「スッキリわかる機械学習入門(インプレス)」より引用  \n",
    "        (著作権は株式会社フレアリンクに帰属、CC BY-SA 4.0(要約))\n",
    "    * つぶやき数、主演男優の露出度、原作有無から、最終興行収入を予測"
   ]
  },
  {
   "cell_type": "code",
   "execution_count": 1,
   "metadata": {},
   "outputs": [],
   "source": [
    "# ライブラリのインポート\n",
    "import pandas as pd\n",
    "import openpyxl\n",
    "import matplotlib.pyplot as plt\n",
    "from sklearn.linear_model import LinearRegression\n",
    "from sklearn.model_selection import train_test_split\n",
    "from sklearn.metrics import mean_absolute_error, mean_squared_error"
   ]
  },
  {
   "cell_type": "code",
   "execution_count": 11,
   "metadata": {},
   "outputs": [
    {
     "name": "stdout",
     "output_type": "stream",
     "text": [
      "date frame shape (100, 6)\n"
     ]
    },
    {
     "data": {
      "text/html": [
       "<div>\n",
       "<style scoped>\n",
       "    .dataframe tbody tr th:only-of-type {\n",
       "        vertical-align: middle;\n",
       "    }\n",
       "\n",
       "    .dataframe tbody tr th {\n",
       "        vertical-align: top;\n",
       "    }\n",
       "\n",
       "    .dataframe thead th {\n",
       "        text-align: right;\n",
       "    }\n",
       "</style>\n",
       "<table border=\"1\" class=\"dataframe\">\n",
       "  <thead>\n",
       "    <tr style=\"text-align: right;\">\n",
       "      <th></th>\n",
       "      <th>cinema_id</th>\n",
       "      <th>SNS1</th>\n",
       "      <th>SNS2</th>\n",
       "      <th>actor</th>\n",
       "      <th>original</th>\n",
       "      <th>sales</th>\n",
       "    </tr>\n",
       "  </thead>\n",
       "  <tbody>\n",
       "    <tr>\n",
       "      <th>0</th>\n",
       "      <td>1375</td>\n",
       "      <td>291.0</td>\n",
       "      <td>1044</td>\n",
       "      <td>8808.994029</td>\n",
       "      <td>0</td>\n",
       "      <td>9731</td>\n",
       "    </tr>\n",
       "    <tr>\n",
       "      <th>1</th>\n",
       "      <td>1000</td>\n",
       "      <td>363.0</td>\n",
       "      <td>568</td>\n",
       "      <td>10290.709370</td>\n",
       "      <td>1</td>\n",
       "      <td>10210</td>\n",
       "    </tr>\n",
       "    <tr>\n",
       "      <th>2</th>\n",
       "      <td>1390</td>\n",
       "      <td>158.0</td>\n",
       "      <td>431</td>\n",
       "      <td>6340.388534</td>\n",
       "      <td>1</td>\n",
       "      <td>8227</td>\n",
       "    </tr>\n",
       "    <tr>\n",
       "      <th>3</th>\n",
       "      <td>1499</td>\n",
       "      <td>261.0</td>\n",
       "      <td>578</td>\n",
       "      <td>8250.485081</td>\n",
       "      <td>0</td>\n",
       "      <td>9658</td>\n",
       "    </tr>\n",
       "    <tr>\n",
       "      <th>4</th>\n",
       "      <td>1164</td>\n",
       "      <td>209.0</td>\n",
       "      <td>683</td>\n",
       "      <td>10908.539550</td>\n",
       "      <td>0</td>\n",
       "      <td>9286</td>\n",
       "    </tr>\n",
       "  </tbody>\n",
       "</table>\n",
       "</div>"
      ],
      "text/plain": [
       "   cinema_id   SNS1  SNS2         actor  original  sales\n",
       "0       1375  291.0  1044   8808.994029         0   9731\n",
       "1       1000  363.0   568  10290.709370         1  10210\n",
       "2       1390  158.0   431   6340.388534         1   8227\n",
       "3       1499  261.0   578   8250.485081         0   9658\n",
       "4       1164  209.0   683  10908.539550         0   9286"
      ]
     },
     "execution_count": 11,
     "metadata": {},
     "output_type": "execute_result"
    }
   ],
   "source": [
    "# データが格納されたエクセルファイルをデータフレームに読み込み、\n",
    "# 行数と列数を確認、先頭5行を表示\n",
    "df1 = pd.read_excel('ml04_sukkiri_ml_cinema.xlsx')\n",
    "print('date frame shape', df1.shape)\n",
    "df1.head()"
   ]
  },
  {
   "cell_type": "code",
   "execution_count": 12,
   "metadata": {},
   "outputs": [
    {
     "data": {
      "text/plain": [
       "cinema_id    False\n",
       "SNS1          True\n",
       "SNS2         False\n",
       "actor         True\n",
       "original     False\n",
       "sales        False\n",
       "dtype: bool"
      ]
     },
     "execution_count": 12,
     "metadata": {},
     "output_type": "execute_result"
    }
   ],
   "source": [
    "## 欠損値の確認 (pandasのisnull関数を利用)\n",
    "# any(axis=0) で各列に欠損値があるかを確認\n",
    "df1.isnull().any(axis=0)"
   ]
  },
  {
   "cell_type": "code",
   "execution_count": 14,
   "metadata": {},
   "outputs": [
    {
     "data": {
      "text/plain": [
       "cinema_id    False\n",
       "SNS1         False\n",
       "SNS2         False\n",
       "actor        False\n",
       "original     False\n",
       "sales        False\n",
       "dtype: bool"
      ]
     },
     "execution_count": 14,
     "metadata": {},
     "output_type": "execute_result"
    }
   ],
   "source": [
    "## 欠損値の穴埋め (平均値で穴埋めしたデータフレームdf2を作成)\n",
    "# df.mean()で各列の平均を求め、fillna()で欠損箇所に挿入\n",
    "df2 = df1.fillna(df1.mean())\n",
    "# 欠損を穴埋めした結果を確認\n",
    "df2.isnull().any(axis=0)"
   ]
  },
  {
   "cell_type": "code",
   "execution_count": 5,
   "metadata": {},
   "outputs": [
    {
     "data": {
      "image/png": "[encoded data removed]",
      "text/plain": [
       "<Figure size 1080x324 with 3 Axes>"
      ]
     },
     "metadata": {
      "needs_background": "light"
     },
     "output_type": "display_data"
    }
   ],
   "source": [
    "## 散布図を作成して外れ値を確認\n",
    "# 散布図を3つ横に並べる設定 : subplots の行\n",
    "fig, ax = plt.subplots(1, 3, figsize=(15, 4.5))\n",
    "\n",
    "# 各散布図の縦軸に使うデータ列の名称をリストで準備\n",
    "columns = ['SNS1', 'SNS2', 'actor']\n",
    "\n",
    "# forループでリストの各列の散布図を作成\n",
    "for i in range(len(columns)):\n",
    "    ax[i].set_xlabel(columns[i])  # 横軸のラベルを設定\n",
    "    ax[i].set_ylabel('sales')     # 縦軸のラベルを設定\n",
    "    ax[i].scatter(df2[columns[i]], df2['sales']) # 散布図を作成\n",
    "plt.tight_layout()  # ラベルの重なりを避けるためのサイズ調整を実施\n",
    "plt.show()  # グラフを表示"
   ]
  },
  {
   "cell_type": "code",
   "execution_count": 6,
   "metadata": {},
   "outputs": [
    {
     "name": "stdout",
     "output_type": "stream",
     "text": [
      "SNS1-sales outlier [50] \n",
      "     cinema_id   SNS1  SNS2        actor  original  sales\n",
      "50       1827  800.0   934  8206.568734         0   9000 \n",
      "\n",
      "SNS2-sales outlier [30] \n",
      "     cinema_id   SNS1  SNS2        actor  original  sales\n",
      "30       1855  149.0  1200  8173.096892         0   8000 \n",
      "\n",
      "date frame shape (98, 6)\n"
     ]
    }
   ],
   "source": [
    "## 外れ値を含む行を削除\n",
    "# SNS1-sales の右下の点のインデックスを取得\n",
    "hazure_SNS1_index = df2[(df2['SNS1'] > 700) & (df2['sales'] < 9500)].index.to_list()\n",
    "print('SNS1-sales outlier', hazure_SNS1_index, '\\n', df2.loc[hazure_SNS1_index], '\\n')\n",
    "\n",
    "# SNS2-sales の右下の点のインデックスを取得\n",
    "hazure_SNS2_index = df2[(df2['SNS2'] > 1000) & (df2['sales'] < 8500)].index.to_list()\n",
    "print('SNS2-sales outlier', hazure_SNS2_index, '\\n', df2.loc[hazure_SNS2_index], '\\n')\n",
    "\n",
    "# 上記の点の行をデータフレームから除去 (list+list でリストを結合)\n",
    "df3 = df2.drop(hazure_SNS1_index + hazure_SNS2_index, axis=0)\n",
    "print('date frame shape', df3.shape)"
   ]
  },
  {
   "cell_type": "code",
   "execution_count": 7,
   "metadata": {},
   "outputs": [
    {
     "name": "stdout",
     "output_type": "stream",
     "text": [
      "73 25 73 25\n"
     ]
    }
   ],
   "source": [
    "## 学習・検証用にデータを分割\n",
    "# データフレームの SNS1,SNS2,actor,originalを入力データとして変数xに代入、salesを正解ラベルとして変数yに代入\n",
    "x = df3[['SNS1', 'SNS2', 'actor', 'original']]\n",
    "y = df3['sales']\n",
    "\n",
    "# データを学習用と検証用に分割 (test_sizeで検証データの比率を指定(0.0-1.0の間), random_stateは乱数シード)\n",
    "x_train, x_test, y_train, y_test = train_test_split(x, y, test_size=0.25, random_state=1)\n",
    "print(len(x_train), len(x_test), len(y_train), len(y_test)) # それぞれのデータ数を確認"
   ]
  },
  {
   "cell_type": "code",
   "execution_count": 8,
   "metadata": {},
   "outputs": [
    {
     "data": {
      "text/plain": [
       "LinearRegression()"
      ]
     },
     "execution_count": 8,
     "metadata": {},
     "output_type": "execute_result"
    }
   ],
   "source": [
    "# 回帰モデルを作成\n",
    "model = LinearRegression()\n",
    "\n",
    "# 回帰モデルを学習用データで学習\n",
    "model.fit(x_train, y_train)"
   ]
  },
  {
   "cell_type": "code",
   "execution_count": 9,
   "metadata": {},
   "outputs": [
    {
     "data": {
      "text/plain": [
       "array([9433.34138901])"
      ]
     },
     "execution_count": 9,
     "metadata": {},
     "output_type": "execute_result"
    }
   ],
   "source": [
    "# ダミーデータを用意し、その予測で作成したモデルの動作を確認\n",
    "x_dummy = pd.DataFrame([[200, 400, 9000, 1]], \n",
    "                       columns=['SNS1','SNS2','actor','original'])\n",
    "model.predict(x_dummy)"
   ]
  },
  {
   "cell_type": "code",
   "execution_count": 20,
   "metadata": {},
   "outputs": [
    {
     "name": "stdout",
     "output_type": "stream",
     "text": [
      "平均絶対誤差 253.30711568503023\n",
      "平均二乗誤差 119320.43516577514\n",
      "決定係数 0.7831461734021443\n",
      "(参考) 学習データに対する決定係数 0.7866517579860794\n"
     ]
    }
   ],
   "source": [
    "## 検証用データを利用してモデルを評価\n",
    "# 学習したモデルを使い、検証用データの入力データから最終興行収入を予測\n",
    "pred = model.predict(x_test)\n",
    "\n",
    "# 平均絶対誤差、平均二乗誤差、決定係数を計算\n",
    "print('平均絶対誤差', mean_absolute_error(y_pred=pred, y_true=y_test))\n",
    "print('平均二乗誤差', mean_squared_error(y_pred=pred, y_true=y_test))\n",
    "print('決定係数', model.score(x_test, y_test))\n",
    "print('(参考) 学習データに対する決定係数', model.score(x_train, y_train))"
   ]
  },
  {
   "cell_type": "code",
   "execution_count": 16,
   "metadata": {},
   "outputs": [
    {
     "name": "stdout",
     "output_type": "stream",
     "text": [
      "[  1.33936552   0.58445685   0.26305028 204.55220007]\n",
      "6359.6808313122965\n"
     ]
    }
   ],
   "source": [
    "## 作成したモデルを確認\n",
    "# モデルの式を確認\n",
    "print(model.coef_) # モデルの係数を表示\n",
    "print(model.intercept_) # モデルの切片を表示"
   ]
  }
 ],
 "metadata": {
  "kernelspec": {
   "display_name": "Python 3.9.7 ('venv': venv)",
   "language": "python",
   "name": "python3"
  },
  "language_info": {
   "codemirror_mode": {
    "name": "ipython",
    "version": 3
   },
   "file_extension": ".py",
   "mimetype": "text/x-python",
   "name": "python",
   "nbconvert_exporter": "python",
   "pygments_lexer": "ipython3",
   "version": "3.9.7"
  },
  "orig_nbformat": 4,
  "vscode": {
   "interpreter": {
    "hash": "18ef0afcf35f1452430268c7ef685ac367525865953635d3b087fb3264879c09"
   }
  }
 },
 "nbformat": 4,
 "nbformat_minor": 2
}
