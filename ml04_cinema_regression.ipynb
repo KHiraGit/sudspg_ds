{
 "cells": [
  {
   "cell_type": "markdown",
   "metadata": {},
   "source": [
    "* 映画の興行収入を予測\n",
    "  * データ\n",
    "    * (URL)\n",
    "      * データは「スッキリわかる機械学習入門(インプレス)」より引用  \n",
    "        (著作権は株式会社フレアリンクに帰属、CC BY-SA 4.0(要約))\n",
    "    * つぶやき数、主演男優の露出度、原作有無から、最終興行収入を予測"
   ]
  },
  {
   "cell_type": "code",
   "execution_count": 31,
   "metadata": {},
   "outputs": [],
   "source": [
    "# ライブラリのインポート\n",
    "import pandas as pd\n",
    "import openpyxl\n",
    "import matplotlib.pyplot as plt\n",
    "from sklearn.linear_model import LinearRegression\n",
    "from sklearn.model_selection import train_test_split\n",
    "from sklearn.metrics import mean_absolute_error, mean_squared_error\n",
    "import math\n",
    "import statistics"
   ]
  },
  {
   "cell_type": "code",
   "execution_count": 18,
   "metadata": {},
   "outputs": [
    {
     "name": "stdout",
     "output_type": "stream",
     "text": [
      "date frame shape (100, 6)\n"
     ]
    },
    {
     "data": {
      "text/html": [
       "<div>\n",
       "<style scoped>\n",
       "    .dataframe tbody tr th:only-of-type {\n",
       "        vertical-align: middle;\n",
       "    }\n",
       "\n",
       "    .dataframe tbody tr th {\n",
       "        vertical-align: top;\n",
       "    }\n",
       "\n",
       "    .dataframe thead th {\n",
       "        text-align: right;\n",
       "    }\n",
       "</style>\n",
       "<table border=\"1\" class=\"dataframe\">\n",
       "  <thead>\n",
       "    <tr style=\"text-align: right;\">\n",
       "      <th></th>\n",
       "      <th>cinema_id</th>\n",
       "      <th>SNS1</th>\n",
       "      <th>SNS2</th>\n",
       "      <th>actor</th>\n",
       "      <th>original</th>\n",
       "      <th>sales</th>\n",
       "    </tr>\n",
       "  </thead>\n",
       "  <tbody>\n",
       "    <tr>\n",
       "      <th>0</th>\n",
       "      <td>1375</td>\n",
       "      <td>291.0</td>\n",
       "      <td>1044</td>\n",
       "      <td>8808.994029</td>\n",
       "      <td>0</td>\n",
       "      <td>9731</td>\n",
       "    </tr>\n",
       "    <tr>\n",
       "      <th>1</th>\n",
       "      <td>1000</td>\n",
       "      <td>363.0</td>\n",
       "      <td>568</td>\n",
       "      <td>10290.709370</td>\n",
       "      <td>1</td>\n",
       "      <td>10210</td>\n",
       "    </tr>\n",
       "    <tr>\n",
       "      <th>2</th>\n",
       "      <td>1390</td>\n",
       "      <td>158.0</td>\n",
       "      <td>431</td>\n",
       "      <td>6340.388534</td>\n",
       "      <td>1</td>\n",
       "      <td>8227</td>\n",
       "    </tr>\n",
       "    <tr>\n",
       "      <th>3</th>\n",
       "      <td>1499</td>\n",
       "      <td>261.0</td>\n",
       "      <td>578</td>\n",
       "      <td>8250.485081</td>\n",
       "      <td>0</td>\n",
       "      <td>9658</td>\n",
       "    </tr>\n",
       "    <tr>\n",
       "      <th>4</th>\n",
       "      <td>1164</td>\n",
       "      <td>209.0</td>\n",
       "      <td>683</td>\n",
       "      <td>10908.539550</td>\n",
       "      <td>0</td>\n",
       "      <td>9286</td>\n",
       "    </tr>\n",
       "  </tbody>\n",
       "</table>\n",
       "</div>"
      ],
      "text/plain": [
       "   cinema_id   SNS1  SNS2         actor  original  sales\n",
       "0       1375  291.0  1044   8808.994029         0   9731\n",
       "1       1000  363.0   568  10290.709370         1  10210\n",
       "2       1390  158.0   431   6340.388534         1   8227\n",
       "3       1499  261.0   578   8250.485081         0   9658\n",
       "4       1164  209.0   683  10908.539550         0   9286"
      ]
     },
     "execution_count": 18,
     "metadata": {},
     "output_type": "execute_result"
    }
   ],
   "source": [
    "# データが格納されたエクセルファイルをデータフレームに読み込み、\n",
    "# 行数と列数を確認、先頭5行を表示\n",
    "df1 = pd.read_excel('ml04_sukkiri_ml_cinema.xlsx')\n",
    "print('date frame shape', df1.shape)\n",
    "df1.head()"
   ]
  },
  {
   "cell_type": "code",
   "execution_count": 19,
   "metadata": {},
   "outputs": [
    {
     "data": {
      "text/plain": [
       "cinema_id    False\n",
       "SNS1          True\n",
       "SNS2         False\n",
       "actor         True\n",
       "original     False\n",
       "sales        False\n",
       "dtype: bool"
      ]
     },
     "execution_count": 19,
     "metadata": {},
     "output_type": "execute_result"
    }
   ],
   "source": [
    "## 欠損値の確認 (pandasのisnull関数を利用)\n",
    "# any(axis=0) で各列に欠損値があるかを確認\n",
    "df1.isnull().any(axis=0)"
   ]
  },
  {
   "cell_type": "code",
   "execution_count": 20,
   "metadata": {},
   "outputs": [
    {
     "data": {
      "text/plain": [
       "cinema_id    False\n",
       "SNS1         False\n",
       "SNS2         False\n",
       "actor        False\n",
       "original     False\n",
       "sales        False\n",
       "dtype: bool"
      ]
     },
     "execution_count": 20,
     "metadata": {},
     "output_type": "execute_result"
    }
   ],
   "source": [
    "## 欠損値の穴埋め (平均値で穴埋めしたデータフレームdf2を作成)\n",
    "# df.mean()で各列の平均を求め、fillna()で欠損箇所に挿入\n",
    "df2 = df1.fillna(df1.mean())\n",
    "# 欠損を穴埋めした結果を確認\n",
    "df2.isnull().any(axis=0)"
   ]
  },
  {
   "cell_type": "code",
   "execution_count": 21,
   "metadata": {},
   "outputs": [
    {
     "data": {
      "image/png": "[encoded data removed]",
      "text/plain": [
       "<Figure size 1080x324 with 3 Axes>"
      ]
     },
     "metadata": {
      "needs_background": "light"
     },
     "output_type": "display_data"
    }
   ],
   "source": [
    "## 散布図を作成して外れ値を確認\n",
    "# 散布図を3つ横に並べる設定 : subplots の行\n",
    "fig, ax = plt.subplots(1, 3, figsize=(15, 4.5))\n",
    "\n",
    "# 各散布図の縦軸に使うデータ列の名称をリストで準備\n",
    "columns = ['SNS1', 'SNS2', 'actor']\n",
    "\n",
    "# forループでリストの各列の散布図を作成\n",
    "for i in range(len(columns)):\n",
    "    ax[i].set_xlabel(columns[i])  # 横軸のラベルを設定\n",
    "    ax[i].set_ylabel('sales')     # 縦軸のラベルを設定\n",
    "    ax[i].scatter(df2[columns[i]], df2['sales']) # 散布図を作成\n",
    "plt.tight_layout()  # ラベルの重なりを避けるためのサイズ調整を実施\n",
    "plt.show()  # グラフを表示"
   ]
  },
  {
   "cell_type": "code",
   "execution_count": 22,
   "metadata": {},
   "outputs": [
    {
     "name": "stdout",
     "output_type": "stream",
     "text": [
      "SNS1-sales outlier [50] \n",
      "     cinema_id   SNS1  SNS2        actor  original  sales\n",
      "50       1827  800.0   934  8206.568734         0   9000 \n",
      "\n",
      "SNS2-sales outlier [30] \n",
      "     cinema_id   SNS1  SNS2        actor  original  sales\n",
      "30       1855  149.0  1200  8173.096892         0   8000 \n",
      "\n",
      "date frame shape (98, 6)\n"
     ]
    }
   ],
   "source": [
    "## 外れ値を含む行を削除\n",
    "# SNS1-sales の右下の点のインデックスを取得\n",
    "hazure_SNS1_index = df2[(df2['SNS1'] > 700) & (df2['sales'] < 9500)].index.to_list()\n",
    "print('SNS1-sales outlier', hazure_SNS1_index, '\\n', df2.loc[hazure_SNS1_index], '\\n')\n",
    "\n",
    "# SNS2-sales の右下の点のインデックスを取得\n",
    "hazure_SNS2_index = df2[(df2['SNS2'] > 1000) & (df2['sales'] < 8500)].index.to_list()\n",
    "print('SNS2-sales outlier', hazure_SNS2_index, '\\n', df2.loc[hazure_SNS2_index], '\\n')\n",
    "\n",
    "# 上記の点の行をデータフレームから除去 (list+list でリストを結合)\n",
    "df3 = df2.drop(hazure_SNS1_index + hazure_SNS2_index, axis=0)\n",
    "print('date frame shape', df3.shape)"
   ]
  },
  {
   "cell_type": "code",
   "execution_count": 23,
   "metadata": {},
   "outputs": [
    {
     "name": "stdout",
     "output_type": "stream",
     "text": [
      "73 25 73 25\n"
     ]
    }
   ],
   "source": [
    "## 学習・検証用にデータを分割\n",
    "# データフレームの SNS1,SNS2,actor,originalを入力データとして変数xに代入、salesを正解ラベルとして変数yに代入\n",
    "x = df3[['SNS1', 'SNS2', 'actor', 'original']]\n",
    "y = df3['sales']\n",
    "\n",
    "# データを学習用と検証用に分割 (test_sizeで検証データの比率を指定(0.0-1.0の間), random_stateは乱数シード)\n",
    "x_train, x_test, y_train, y_test = train_test_split(x, y, test_size=0.25, random_state=1)\n",
    "print(len(x_train), len(x_test), len(y_train), len(y_test)) # それぞれのデータ数を確認"
   ]
  },
  {
   "cell_type": "code",
   "execution_count": 24,
   "metadata": {},
   "outputs": [
    {
     "data": {
      "text/plain": [
       "LinearRegression()"
      ]
     },
     "execution_count": 24,
     "metadata": {},
     "output_type": "execute_result"
    }
   ],
   "source": [
    "# 回帰モデルを作成\n",
    "model = LinearRegression()\n",
    "\n",
    "# 回帰モデルを学習用データで学習\n",
    "model.fit(x_train, y_train)"
   ]
  },
  {
   "cell_type": "code",
   "execution_count": 25,
   "metadata": {},
   "outputs": [
    {
     "data": {
      "text/plain": [
       "array([9433.34138901])"
      ]
     },
     "execution_count": 25,
     "metadata": {},
     "output_type": "execute_result"
    }
   ],
   "source": [
    "# ダミーデータを用意し、その予測で作成したモデルの動作を確認\n",
    "x_dummy = pd.DataFrame([[200, 400, 9000, 1]], \n",
    "                       columns=['SNS1','SNS2','actor','original'])\n",
    "model.predict(x_dummy)"
   ]
  },
  {
   "cell_type": "code",
   "execution_count": 26,
   "metadata": {},
   "outputs": [
    {
     "name": "stdout",
     "output_type": "stream",
     "text": [
      "平均絶対誤差 253.30711568503008\n",
      "平均二乗誤差 119320.43516577496\n",
      "平均平方二乗誤差 345.4279015449895\n",
      "決定係数 0.7831461734021447\n",
      "(参考) 学習データに対する決定係数 0.7866517579860792\n"
     ]
    }
   ],
   "source": [
    "## 検証用データを利用してモデルを評価\n",
    "# 学習したモデルを使い、検証用データの入力データから最終興行収入を予測\n",
    "pred = model.predict(x_test)\n",
    "\n",
    "# 平均絶対誤差、平均二乗誤差、決定係数を計算\n",
    "print('平均絶対誤差', mean_absolute_error(y_pred=pred, y_true=y_test))\n",
    "print('平均二乗誤差', mean_squared_error(y_pred=pred, y_true=y_test))\n",
    "print('平均平方二乗誤差', \n",
    "      math.sqrt(mean_squared_error(y_pred=pred, y_true=y_test)))\n",
    "print('決定係数', model.score(x_test, y_test))\n",
    "print('(参考) 学習データに対する決定係数', model.score(x_train, y_train))"
   ]
  },
  {
   "cell_type": "code",
   "execution_count": 27,
   "metadata": {},
   "outputs": [
    {
     "name": "stdout",
     "output_type": "stream",
     "text": [
      "[  1.33936552   0.58445685   0.26305028 204.55220007]\n",
      "6359.6808313123\n"
     ]
    }
   ],
   "source": [
    "## 作成したモデルを確認\n",
    "# モデルの式を確認\n",
    "print(model.coef_) # モデルの係数を表示\n",
    "print(model.intercept_) # モデルの切片を表示"
   ]
  },
  {
   "cell_type": "code",
   "execution_count": 35,
   "metadata": {},
   "outputs": [
    {
     "name": "stdout",
     "output_type": "stream",
     "text": [
      "test_size=0.5 train_size=0.5\n",
      "(test) 平均絶対誤差の平均と分散 306.0188284167472 25.380556075498344\n",
      "(train) 平均絶対誤差の平均と分散 277.37778671605173 22.747528361055515\n",
      "(test) 平均平方二乗誤差の平均と分散 381.94783694642655 31.73873883279312\n",
      "(train) 平均平方二乗誤差の平均と分散 348.02998481845043 29.641784135496135\n",
      "(test) 決定係数の平均と分散 0.748648616245531 0.048373465724992265\n",
      "(train) 決定係数の平均と分散 0.7931153941865655 0.03789487509463084\n",
      "test_size=0.25 train_size=0.75\n",
      "(test) 平均絶対誤差の平均と分散 301.2812486526829 39.59844418598704\n",
      "(train) 平均絶対誤差の平均と分散 282.5238390794617 13.236281114552577\n",
      "(test) 平均平方二乗誤差の平均と分散 372.8423929598066 51.264939039302526\n",
      "(train) 平均平方二乗誤差の平均と分散 354.2144306246001 17.60418525918923\n",
      "(test) 決定係数の平均と分散 0.7467257614054117 0.08222963508455015\n",
      "(train) 決定係数の平均と分散 0.7890828912686357 0.022349055624670218\n",
      "test_size=0.1 train_size=0.9\n",
      "(test) 平均絶対誤差の平均と分散 301.98356186015536 68.51584776603677\n",
      "(train) 平均絶対誤差の平均と分散 284.30857227140024 7.7923575990182785\n",
      "(test) 平均平方二乗誤差の平均と分散 366.87612326728913 86.87441555825744\n",
      "(train) 平均平方二乗誤差の平均と分散 355.9771066262361 10.26679764964883\n",
      "(test) 決定係数の平均と分散 0.6959602082765931 0.21563498614735455\n",
      "(train) 決定係数の平均と分散 0.7881638614384365 0.012867837039812868\n"
     ]
    },
    {
     "data": {
      "image/png": "[encoded data removed]",
      "text/plain": [
       "<Figure size 1440x324 with 3 Axes>"
      ]
     },
     "metadata": {
      "needs_background": "light"
     },
     "output_type": "display_data"
    }
   ],
   "source": [
    "# スライド「データ分割のモデルへの影響」のグラフを作成するためのプログラム\n",
    "# 散布図を3つ横に並べる設定 : subplots の行\n",
    "fig, ax = plt.subplots(1, 3, figsize=(20, 4.5))\n",
    "size = [0.5, 0.25, 0.1]\n",
    "test_mae = []\n",
    "train_mae = []\n",
    "test_mrse = []\n",
    "train_mrse = []\n",
    "test_score = []\n",
    "train_score = []\n",
    "for i in range(len(size)):\n",
    "    test_mae.append([])\n",
    "    train_mae.append([])\n",
    "    test_mrse.append([])\n",
    "    train_mrse.append([])\n",
    "    test_score.append([])\n",
    "    train_score.append([])\n",
    "    for _rand_seed in range(1000):\n",
    "\n",
    "        # データを学習用と検証用に分割 \n",
    "        # (test_sizeで検証データの比率を指定(0.0-1.0の間), random_stateは乱数シード)\n",
    "        x_train, x_test, y_train, y_test = \\\n",
    "            train_test_split(x, y, test_size=size[i], random_state=_rand_seed)\n",
    "\n",
    "        # print(len(x_train), len(x_test), len(y_train), len(y_test)) # それぞれのデータ数を確認\n",
    "\n",
    "        model = LinearRegression()    # 回帰モデルを作成\n",
    "        model.fit(x_train, y_train)    # 回帰モデルを学習用データで学習\n",
    "\n",
    "        test_pred = model.predict(x_test)\n",
    "        test_mae[i].append(mean_absolute_error(y_pred=test_pred, y_true=y_test))\n",
    "        test_mrse[i].append(math.sqrt(mean_squared_error(y_pred=test_pred, y_true=y_test)))\n",
    "\n",
    "        train_pred = model.predict(x_train)\n",
    "        train_mae[i].append(mean_absolute_error(y_pred=train_pred, y_true=y_train))\n",
    "        train_mrse[i].append(math.sqrt(mean_squared_error(y_pred=train_pred, y_true=y_train)))\n",
    "\n",
    "        test_score[i].append(model.score(x_test, y_test)) # 検証用データに対する決定係数\n",
    "        train_score[i].append(model.score(x_train, y_train)) # 学習用データに対する決定係数\n",
    "\n",
    "    # 性能の確認\n",
    "    print(f'test_size={size[i]} train_size={1-size[i]}')\n",
    "    print('(test) 平均絶対誤差の平均と分散', statistics.mean(test_mae[i]), statistics.stdev(test_mae[i]))\n",
    "    print('(train) 平均絶対誤差の平均と分散', statistics.mean(train_mae[i]), statistics.stdev(train_mae[i]))\n",
    "    print('(test) 平均平方二乗誤差の平均と分散', statistics.mean(test_mrse[i]), statistics.stdev(test_mrse[i]))\n",
    "    print('(train) 平均平方二乗誤差の平均と分散', statistics.mean(train_mrse[i]), statistics.stdev(train_mrse[i]))\n",
    "    print('(test) 決定係数の平均と分散', statistics.mean(test_score[i]), statistics.stdev(test_score[i]))\n",
    "    print('(train) 決定係数の平均と分散', statistics.mean(train_score[i]), statistics.stdev(train_score[i]))\n",
    "\n",
    "\n",
    "    # 各決定係数をヒストグラムに表示 (ビンの幅・数を揃えて、透過色で重ね合わせて表示)\n",
    "    ax[i].set_title(f'test_size={size[i]}')\n",
    "    ax[i].hist(test_score[i], alpha=0.5, label='test_score', range=(0.40, 0.95), bins=22)\n",
    "    ax[i].hist(train_score[i], alpha=0.5, label='train_score', range=(0.40, 0.95), bins=22)\n",
    "    ax[i].legend(loc='upper left')\n",
    "\n",
    "plt.show()"
   ]
  },
  {
   "cell_type": "code",
   "execution_count": 45,
   "metadata": {},
   "outputs": [
    {
     "data": {
      "image/png": "[encoded data removed]",
      "text/plain": [
       "<Figure size 1440x324 with 3 Axes>"
      ]
     },
     "metadata": {
      "needs_background": "light"
     },
     "output_type": "display_data"
    }
   ],
   "source": [
    "import japanize_matplotlib\n",
    "fig, ax = plt.subplots(1, 3, figsize=(20, 4.5))\n",
    "ax[0].set_title('検証用データの割合と平均絶対誤差のバラツキ')\n",
    "ax[0].boxplot([train_mae[0], test_mae[0], train_mae[1], test_mae[1], train_mae[2], test_mae[2]])\n",
    "ax[0].set_xticklabels(['0.5_train', '0.5_test', '0.25_train', '0.25_test', '0.1_train', '0.1_test'])\n",
    "ax[1].set_title('検証用データの割合と平均平方二乗誤差のバラツキ')\n",
    "ax[1].boxplot([train_mrse[0], test_mrse[0], train_mrse[1], test_mrse[1], train_mrse[2], test_mrse[2]])\n",
    "ax[1].set_xticklabels(['0.5_train', '0.5_test', '0.25_train', '0.25_test', '0.1_train', '0.1_test'])\n",
    "ax[2].set_title('検証用データの割合と決定係数のバラツキ')\n",
    "ax[2].set_ylim(0.0, 1.0)\n",
    "ax[2].boxplot([train_score[0], test_score[0], train_score[1], test_score[1], train_score[2], test_score[2]])\n",
    "ax[2].set_xticklabels(['0.5_train', '0.5_test', '0.25_train', '0.25_test', '0.1_train', '0.1_test'])\n",
    "plt.show()\n"
   ]
  }
 ],
 "metadata": {
  "kernelspec": {
   "display_name": "Python 3.9.7 ('venv': venv)",
   "language": "python",
   "name": "python3"
  },
  "language_info": {
   "codemirror_mode": {
    "name": "ipython",
    "version": 3
   },
   "file_extension": ".py",
   "mimetype": "text/x-python",
   "name": "python",
   "nbconvert_exporter": "python",
   "pygments_lexer": "ipython3",
   "version": "3.9.9"
  },
  "orig_nbformat": 4,
  "vscode": {
   "interpreter": {
    "hash": "18ef0afcf35f1452430268c7ef685ac367525865953635d3b087fb3264879c09"
   }
  }
 },
 "nbformat": 4,
 "nbformat_minor": 2
}
