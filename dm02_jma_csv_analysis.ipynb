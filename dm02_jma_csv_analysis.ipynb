{
 "cells": [
  {
   "attachments": {},
   "cell_type": "markdown",
   "metadata": {},
   "source": [
    "* データマイニング特別演習\n",
    "* 気象庁からダウンロードしたさいたま市の気温データを分析"
   ]
  },
  {
   "cell_type": "code",
   "execution_count": null,
   "metadata": {},
   "outputs": [],
   "source": [
    "# google colab の場合は以下のコメントアウトを外す\n",
    "#!wget https://github.com/KHiraGit/sudspg_ds/raw/main/dm02_data.zip\n",
    "#!unzip -d data dm02_data.zip"
   ]
  },
  {
   "cell_type": "code",
   "execution_count": null,
   "metadata": {},
   "outputs": [],
   "source": [
    "# 利用するライブラリをインポート\n",
    "import os\n",
    "import pandas as pd"
   ]
  },
  {
   "cell_type": "code",
   "execution_count": null,
   "metadata": {},
   "outputs": [],
   "source": [
    "csv_file = os.path.join('data', 'data-2022.csv') # 読み込むファイルを設定\n",
    "df = pd.read_csv(csv_file, encoding='shift-jis') # CSVファイルの文字コードを指定して読み込む\n",
    "df.head()"
   ]
  },
  {
   "cell_type": "code",
   "execution_count": null,
   "metadata": {},
   "outputs": [],
   "source": [
    "# 不要な行を省略したデータフレームを作成\n",
    "csv_file = os.path.join('data', 'data-2022.csv') # 読み込むファイルを設定\n",
    "df = pd.read_csv(csv_file, \n",
    "                 header=3, # 3行目までを無視、4行目を列名として設定\n",
    "                 names=['年月日時', '気温', '品質情報', '均質番号'], # 列名を設定\n",
    "                 encoding='shift-jis')\n",
    "df['年月日時'] = pd.to_datetime(df['年月日時']) # '年月日時' を datetime型に変換\n",
    "df.head()"
   ]
  },
  {
   "cell_type": "code",
   "execution_count": null,
   "metadata": {},
   "outputs": [],
   "source": [
    "# 気温の折れ線グラフを作成\n",
    "import matplotlib.pyplot as plt\n",
    "\n",
    "df['気温'].plot(figsize=(15,5))"
   ]
  },
  {
   "cell_type": "code",
   "execution_count": null,
   "metadata": {},
   "outputs": [],
   "source": [
    "# 気温のヒストグラムを作成\n",
    "df['気温'].hist(figsize=(15,5))"
   ]
  },
  {
   "cell_type": "code",
   "execution_count": null,
   "metadata": {},
   "outputs": [],
   "source": [
    "# 35度以上のデータを抽出\n",
    "df_35 = df[df['気温'] >= 35] # 条件指定で抽出\n",
    "print(len(df_35)) # df_35 の行数を表示\n",
    "print(df_35.head(5)) # df_35 の先頭5行を表示"
   ]
  },
  {
   "cell_type": "code",
   "execution_count": null,
   "metadata": {},
   "outputs": [],
   "source": [
    "import glob\n",
    "import re\n",
    "\n",
    "# glob 関数を使って dataフォルダの csvファイルのリストを作成 (年でソート)\n",
    "files = sorted(glob.glob(os.path.join('data', '*.csv')))\n",
    "for file in files: # リストのファイルを１つずつ順に処理\n",
    "    print(file) # ファイル名を表示"
   ]
  },
  {
   "cell_type": "code",
   "execution_count": null,
   "metadata": {},
   "outputs": [],
   "source": [
    "# 棒グラフ作成用のリストを準備 - 年ごとの状況\n",
    "years = []\n",
    "hours_35 = []\n",
    "for file in files: # リストのファイルを１つずつ順に処理\n",
    "    # ファイル名から 年 を抽出\n",
    "    m = re.search(r'(\\d\\d\\d\\d)', file) # 数字が4つ連続する部分を抽出\n",
    "    year = m.group(1)\n",
    "    years.append(year)\n",
    "    # 不要な行を省略したデータフレームを作成\n",
    "    df = pd.read_csv(file, \n",
    "                    header=3, # 3行目までを無視、4行目を列名として設定\n",
    "                    names=['年月日時', '気温', '品質情報', '均質番号'], # 列名を設定\n",
    "                    encoding='shift-jis')\n",
    "    # 35度以上のデータ数をリストに追加\n",
    "    hour_35 = len(df[df['気温'] >= 35]) # 条件指定で抽出した日数\n",
    "    hours_35.append(hour_35) # リストに追加\n",
    "    # ファイル名、年、35度以上の日数を表示\n",
    "    print(file, year, hour_35)\n",
    "    \n",
    "# 35度以上の日数の棒グラフを表示\n",
    "plt.figure(figsize=(6,4)) # サイズを指定\n",
    "plt.grid(axis='y') # 水平グリッド線を表示\n",
    "plt.bar(years, hours_35) # 棒グラフを作成\n",
    "plt.show() # グラフを表示"
   ]
  },
  {
   "cell_type": "code",
   "execution_count": null,
   "metadata": {},
   "outputs": [],
   "source": [
    "# 棒グラフ作成用のリストを準備 - 月日ごとの状況\n",
    "df_hour = pd.DataFrame() # 空のデータフレームを準備\n",
    "for file in files: # リストのファイルを１つずつ順に処理\n",
    "    # 不要な行を省略したデータフレームを作成\n",
    "    df = pd.read_csv(file, \n",
    "                    header=3, # 3行目までを無視、4行目を列名として設定\n",
    "                    names=['年月日時', '気温', '品質情報', '均質番号'],\n",
    "                    encoding='shift-jis')\n",
    "    df['年月日時'] = pd.to_datetime(df['年月日時']) # '年月日時' を datetime型に変換\n",
    "    df_hour = df_hour.append(df) # データフレームを追加\n",
    "\n",
    "dates = [] # 7月1日から9月30日までの日付 (x軸用)\n",
    "dates_35 = [] # 7月1日から9月30日までの各日で35度以上のデータ数をカウント\n",
    "for dd in range(1,32): # 7月\n",
    "    dates.append(f'7{dd:02d}') # 指定された時刻で、35度以上のデータ数をカウント\n",
    "    dates_35.append(len(df_hour[(df_hour['年月日時'].dt.month==7) & (df_hour['年月日時'].dt.day==dd) & (df_hour['気温'] >= 35)]))\n",
    "for dd in range(1,32): # 8月\n",
    "    dates.append(f'8{dd:02d}') # 指定された時刻で、35度以上のデータ数をカウント\n",
    "    dates_35.append(len(df_hour[(df_hour['年月日時'].dt.month==8) & (df_hour['年月日時'].dt.day==dd) & (df_hour['気温'] >= 35)]))\n",
    "for dd in range(1,31): # 9月\n",
    "    dates.append(f'9{dd:02d}') # 指定された時刻で、35度以上のデータ数をカウント\n",
    "    dates_35.append(len(df_hour[(df_hour['年月日時'].dt.month==9) & (df_hour['年月日時'].dt.day==dd) & (df_hour['気温'] >= 35)]))\n",
    "\n",
    "# 各時間帯の35度以上のデータ数を棒グラフを表示\n",
    "plt.figure(figsize=(18,4)) # サイズを指定\n",
    "plt.grid(axis='y') # 水平グリッド線を表示\n",
    "plt.bar(dates, dates_35) # 棒グラフを作成\n",
    "plt.xticks(rotation=90) # x軸のラベルを縦書きに\n",
    "plt.show() # グラフを表示"
   ]
  },
  {
   "cell_type": "code",
   "execution_count": null,
   "metadata": {},
   "outputs": [],
   "source": [
    "# 棒グラフ作成用のリストを準備 - 時間帯ごとの状況\n",
    "df_hour = pd.DataFrame() # 空のデータフレームを準備\n",
    "for file in files: # リストのファイルを１つずつ順に処理\n",
    "    # 不要な行を省略したデータフレームを作成\n",
    "    df = pd.read_csv(file, \n",
    "                    header=3, # 3行目までを無視、4行目を列名として設定\n",
    "                    names=['年月日時', '気温', '品質情報', '均質番号'],\n",
    "                    encoding='shift-jis')\n",
    "    df['年月日時'] = pd.to_datetime(df['年月日時']) # '年月日時' を datetime型に変換\n",
    "    df_hour = df_hour.append(df) # データフレームを追加\n",
    "\n",
    "hours = []\n",
    "hours_35 = []\n",
    "for hh in range(24):\n",
    "    hours.append(hh) # 指定された時刻で、35度以上のデータ数をカウント\n",
    "    hours_35.append(len(df_hour[(df_hour['年月日時'].dt.hour==hh) & (df_hour['気温'] >= 35)]))\n",
    "\n",
    "# 各時間帯の35度以上のデータ数を棒グラフを表示\n",
    "plt.figure(figsize=(6,4)) # サイズを指定\n",
    "plt.grid(axis='y') # 水平グリッド線を表示\n",
    "plt.bar(hours, hours_35) # 棒グラフを作成\n",
    "plt.show() # グラフを表示"
   ]
  },
  {
   "cell_type": "code",
   "execution_count": null,
   "metadata": {},
   "outputs": [],
   "source": [
    "# 35度以上の継続時間を確認\n",
    "import csv\n",
    "\n",
    "high_35_dict = {}\n",
    "for file in files: # リストのファイルを１つずつ順に処理\n",
    "    with open(file, encoding='shift-jis') as f:\n",
    "        reader = csv.reader(f)\n",
    "        high_35 = 0\n",
    "        for row in reader:\n",
    "            if len(row) == 0 or not re.search(r'^\\d\\d\\d\\d', row[0]) or not re.search(r'^\\d\\d\\.\\d', row[1]):\n",
    "                continue # 空行、データ行以外、欠損値の行はスキップ\n",
    "            if float(row[1]) >= 35.0:\n",
    "                high_35 = high_35 + 1\n",
    "            elif high_35 > 0 and float(row[1]) < 35.0:\n",
    "                high_35_dict[row[0]] = high_35 # 35度未満になった時刻とそれ以前の継続時間を辞書形式で記録\n",
    "                high_35 = 0\n",
    "\n",
    "sorted_dict = dict(sorted(high_35_dict.items(), key=lambda t: t[1], reverse=True))\n",
    "for key in sorted_dict.keys():\n",
    "    if sorted_dict[key] < 5: # 継続時間が5時間以上のデータを表示\n",
    "        break\n",
    "    else:\n",
    "        print(key, sorted_dict[key])\n"
   ]
  }
 ],
 "metadata": {
  "kernelspec": {
   "display_name": "venv",
   "language": "python",
   "name": "python3"
  },
  "language_info": {
   "codemirror_mode": {
    "name": "ipython",
    "version": 3
   },
   "file_extension": ".py",
   "mimetype": "text/x-python",
   "name": "python",
   "nbconvert_exporter": "python",
   "pygments_lexer": "ipython3",
   "version": "3.9.7"
  },
  "orig_nbformat": 4
 },
 "nbformat": 4,
 "nbformat_minor": 2
}
