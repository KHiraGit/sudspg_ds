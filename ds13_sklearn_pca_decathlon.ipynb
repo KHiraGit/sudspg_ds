{
 "cells": [
  {
   "cell_type": "markdown",
   "metadata": {},
   "source": [
    "データサイエンス特別PG データサイエンス特論 第13回 主成分分析"
   ]
  },
  {
   "cell_type": "code",
   "execution_count": null,
   "metadata": {},
   "outputs": [],
   "source": [
    "# google colab で実行する場合は下記のコメントアウトを外して実行する\n",
    "# ! wget https://raw.githubusercontent.com/KHiraGit/sudspg_ds/main/ic_89_decathlon.csv\n",
    "\n",
    "# 下記を参考に作成\n",
    "# https://santakalog.com/2021/02/13/python-pca/"
   ]
  },
  {
   "cell_type": "code",
   "execution_count": null,
   "metadata": {},
   "outputs": [],
   "source": [
    "# ライブラリをインポート\n",
    "import matplotlib.pyplot as plt\n",
    "import numpy as np\n",
    "import pandas as pd\n",
    "import seaborn as sns\n",
    "from sklearn.decomposition import PCA\n",
    "from sklearn.preprocessing import StandardScaler"
   ]
  },
  {
   "cell_type": "code",
   "execution_count": null,
   "metadata": {},
   "outputs": [],
   "source": [
    "# 十種競技のデータ(csv形式)を読み込んでデータフレームを作成\n",
    "decathlon_df = pd.read_csv('ic_89_decathlon.csv', encoding='utf-8')\n",
    "# ペアプロットを表示 (順位の列は除外)\n",
    "sns.pairplot(decathlon_df.drop(columns='Rank'), height=0.8, aspect=1)"
   ]
  },
  {
   "cell_type": "code",
   "execution_count": null,
   "metadata": {},
   "outputs": [],
   "source": [
    "# データを標準化\n",
    "data = ['100m', 'LongJump', 'ShotPut', 'HighJump', '400m', \n",
    "        '110mH', 'DiscusThrow', 'PoleVault', 'JavelinThrow', '1500m']\n",
    "stdsc = StandardScaler()\n",
    "decathlon_std_df = stdsc.fit_transform(decathlon_df[data])"
   ]
  },
  {
   "cell_type": "code",
   "execution_count": null,
   "metadata": {},
   "outputs": [],
   "source": [
    "#主成分分析を実行\n",
    "pca = PCA()\n",
    "pca.fit(decathlon_std_df)\n",
    "\n",
    "# データを主成分空間に写像\n",
    "pca_cor = pca.transform(decathlon_std_df)\n",
    "pca_df = pd.DataFrame(pca_cor, columns = data)\n",
    "\n",
    "# 第一主成分と第二主成分で各選手の成績をプロット\n",
    "plt.figure(figsize=(6, 6))\n",
    "origin =(0,0)\n",
    "for x, y, name in zip(pca_cor[:, 0], pca_cor[:, 1], decathlon_df['Rank']):\n",
    "    plt.annotate(s='', xy=(x,y), xytext=origin,\n",
    "                 arrowprops=dict(shrink=0, width=1, headwidth=8, headlength=10, \n",
    "                 connectionstyle='arc3', facecolor='lightgray', edgecolor='lightgray'))\n",
    "    plt.text(x+0.05, y, name)\n",
    "plt.scatter(pca_cor[:, 0], pca_cor[:, 1])\n",
    "plt.grid()\n",
    "plt.xlabel(\"PC1\")\n",
    "plt.ylabel(\"PC2\")\n",
    "plt.show()"
   ]
  },
  {
   "cell_type": "code",
   "execution_count": null,
   "metadata": {},
   "outputs": [],
   "source": [
    "# PCA の固有ベクトル\n",
    "pd.DataFrame(pca.components_, columns=data, \n",
    "            index=[\"PC{}\".format(x + 1) for x in range(len(data))])"
   ]
  },
  {
   "cell_type": "code",
   "execution_count": null,
   "metadata": {},
   "outputs": [],
   "source": [
    "# 固有ベクトルを棒グラフで表示\n",
    "centers = pd.DataFrame(pca.components_, columns=data)\n",
    "f, axes = plt.subplots(len(data), 1, sharex=True, figsize=(10,10))\n",
    "for i, ax in enumerate(axes):\n",
    "    center = centers.loc[i, :]\n",
    "    maxPC = 1.1 * np.max(np.max(np.abs(center)))\n",
    "    center.plot.bar(ax=ax)\n",
    "    ax.axhline(color='#cccccc')\n",
    "    ax.set_ylabel(f'PC{i}')\n",
    "    ax.set_ylim(-maxPC, maxPC)"
   ]
  },
  {
   "cell_type": "code",
   "execution_count": null,
   "metadata": {},
   "outputs": [],
   "source": [
    "# 第一主成分と第二主成分における観測変数をプロット\n",
    "plt.figure(figsize=(6, 6))\n",
    "origin =(0,0)\n",
    "for x, y, name in zip(pca.components_[0], pca.components_[1], data):\n",
    "    plt.annotate(s='', xy=(x,y), xytext=origin,\n",
    "                 arrowprops=dict(shrink=0, width=1, headwidth=8, headlength=10, \n",
    "                 connectionstyle='arc3', facecolor='lightgray', edgecolor='lightgray'))\n",
    "    plt.text(x, y, name)\n",
    "plt.scatter(pca.components_[0], pca.components_[1], alpha=0.8)\n",
    "plt.grid()\n",
    "plt.xlabel(\"PC1\")\n",
    "plt.ylabel(\"PC2\")\n",
    "plt.show()"
   ]
  },
  {
   "cell_type": "code",
   "execution_count": null,
   "metadata": {},
   "outputs": [],
   "source": [
    "# 寄与率\n",
    "_output = ''\n",
    "for i in range(10):\n",
    "    _output = _output + f'[PC{i+1} {pca.explained_variance_ratio_[i]:.03f}] '\n",
    "print(_output)"
   ]
  },
  {
   "cell_type": "code",
   "execution_count": null,
   "metadata": {},
   "outputs": [],
   "source": [
    "# 累積寄与率\n",
    "plt.plot([0] + list( np.cumsum(pca.explained_variance_ratio_)), \"-o\")\n",
    "plt.grid()\n",
    "plt.show()"
   ]
  },
  {
   "cell_type": "code",
   "execution_count": null,
   "metadata": {},
   "outputs": [],
   "source": []
  }
 ],
 "metadata": {
  "kernelspec": {
   "display_name": "Python 3.9.7 ('venv': venv)",
   "language": "python",
   "name": "python3"
  },
  "language_info": {
   "codemirror_mode": {
    "name": "ipython",
    "version": 3
   },
   "file_extension": ".py",
   "mimetype": "text/x-python",
   "name": "python",
   "nbconvert_exporter": "python",
   "pygments_lexer": "ipython3",
   "version": "3.9.9"
  },
  "vscode": {
   "interpreter": {
    "hash": "18ef0afcf35f1452430268c7ef685ac367525865953635d3b087fb3264879c09"
   }
  }
 },
 "nbformat": 4,
 "nbformat_minor": 2
}
