{
 "cells": [
  {
   "cell_type": "markdown",
   "metadata": {},
   "source": [
    "* ML09 ニューラルネットワーク\n",
    "  * tensorflow をインストールする\n",
    "  * Google Colab はインストール済み"
   ]
  },
  {
   "cell_type": "code",
   "execution_count": 1,
   "metadata": {},
   "outputs": [
    {
     "name": "stdout",
     "output_type": "stream",
     "text": [
      "2.10.1\n",
      "[PhysicalDevice(name='/physical_device:GPU:0', device_type='GPU')]\n"
     ]
    }
   ],
   "source": [
    "import tensorflow as tf\n",
    "import numpy as np\n",
    "import matplotlib.pyplot as plt\n",
    "\n",
    "print(tf.__version__)\n",
    "print(tf.config.list_physical_devices('GPU'))"
   ]
  },
  {
   "cell_type": "code",
   "execution_count": 2,
   "metadata": {},
   "outputs": [
    {
     "name": "stdout",
     "output_type": "stream",
     "text": [
      "[0.         0.         0.         0.         0.         0.\n",
      " 0.         0.         0.         0.         0.         0.\n",
      " 0.         0.         0.         0.         0.         0.\n",
      " 0.         0.         0.         0.         0.         0.\n",
      " 0.         0.         0.         0.         0.         0.\n",
      " 0.         0.         0.         0.         0.         0.\n",
      " 0.         0.         0.         0.         0.         0.\n",
      " 0.         0.         0.         0.         0.         0.\n",
      " 0.         0.         0.         0.         0.         0.\n",
      " 0.         0.         0.         0.         0.         0.\n",
      " 0.         0.         0.         0.         0.         0.\n",
      " 0.         0.         0.         0.         0.         0.\n",
      " 0.         0.         0.         0.         0.         0.\n",
      " 0.         0.         0.         0.         0.         0.\n",
      " 0.         0.         0.         0.         0.         0.\n",
      " 0.         0.         0.         0.         0.         0.16862746\n",
      " 0.5803922  0.7882353  0.99215686 0.99215686 0.75686276 0.21568628\n",
      " 0.         0.         0.         0.         0.         0.\n",
      " 0.         0.         0.         0.         0.         0.\n",
      " 0.         0.         0.         0.         0.         0.\n",
      " 0.         0.         0.         0.7176471  0.9882353  0.9882353\n",
      " 0.9882353  0.9882353  0.99215686 0.90588236 0.3372549  0.\n",
      " 0.         0.         0.         0.         0.         0.\n",
      " 0.         0.         0.         0.         0.         0.\n",
      " 0.         0.         0.         0.         0.         0.02352941\n",
      " 0.7764706  0.99215686 0.7882353  0.4627451  0.08235294 0.08235294\n",
      " 0.5647059  0.90588236 0.65882355 0.         0.         0.\n",
      " 0.         0.         0.         0.         0.         0.\n",
      " 0.         0.         0.         0.         0.         0.\n",
      " 0.         0.         0.02352941 0.4392157  0.9882353  0.88235295\n",
      " 0.08235294 0.         0.         0.         0.         0.\n",
      " 0.         0.         0.         0.         0.         0.\n",
      " 0.         0.         0.         0.         0.         0.\n",
      " 0.         0.         0.         0.         0.         0.\n",
      " 0.08627451 0.9882353  0.9882353  0.4862745  0.         0.\n",
      " 0.         0.         0.         0.         0.         0.\n",
      " 0.         0.         0.         0.         0.         0.\n",
      " 0.         0.         0.         0.         0.         0.\n",
      " 0.         0.         0.         0.         0.5019608  0.99215686\n",
      " 0.99215686 0.1764706  0.         0.         0.         0.\n",
      " 0.         0.         0.         0.         0.         0.\n",
      " 0.         0.         0.         0.         0.         0.\n",
      " 0.         0.         0.         0.         0.         0.\n",
      " 0.         0.         0.49803922 0.9882353  0.9882353  0.\n",
      " 0.         0.         0.         0.         0.         0.\n",
      " 0.         0.         0.         0.         0.         0.\n",
      " 0.         0.         0.         0.         0.         0.\n",
      " 0.         0.         0.         0.         0.         0.\n",
      " 0.49803922 0.9882353  0.9882353  0.         0.         0.\n",
      " 0.         0.         0.         0.         0.         0.\n",
      " 0.         0.         0.         0.         0.         0.\n",
      " 0.         0.         0.         0.         0.         0.\n",
      " 0.         0.         0.         0.         0.49803922 0.9882353\n",
      " 0.9882353  0.         0.         0.         0.         0.\n",
      " 0.         0.         0.         0.         0.         0.\n",
      " 0.         0.         0.         0.         0.         0.\n",
      " 0.         0.         0.         0.         0.         0.\n",
      " 0.         0.         0.3254902  0.9882353  0.9882353  0.\n",
      " 0.         0.21176471 0.6901961  0.827451   0.83137256 0.827451\n",
      " 0.4509804  0.13725491 0.         0.         0.         0.\n",
      " 0.         0.         0.         0.         0.         0.\n",
      " 0.         0.         0.         0.         0.         0.\n",
      " 0.08627451 0.99215686 0.99215686 0.23921569 0.7176471  0.99215686\n",
      " 0.99215686 0.99215686 1.         0.99215686 0.99215686 0.99215686\n",
      " 0.3019608  0.         0.         0.         0.         0.\n",
      " 0.         0.         0.         0.         0.         0.\n",
      " 0.         0.         0.         0.         0.08627451 0.9882353\n",
      " 0.9882353  0.99215686 0.9882353  0.9607843  0.65882355 0.3137255\n",
      " 0.24705882 0.38431373 0.65882355 0.8784314  0.9882353  0.3137255\n",
      " 0.         0.         0.         0.         0.         0.\n",
      " 0.         0.         0.         0.         0.         0.\n",
      " 0.         0.         0.00784314 0.654902   0.9882353  0.99215686\n",
      " 0.8235294  0.10588235 0.         0.         0.         0.\n",
      " 0.         0.16078432 0.8745098  0.8784314  0.16078432 0.\n",
      " 0.         0.         0.         0.         0.         0.\n",
      " 0.         0.         0.         0.         0.         0.\n",
      " 0.         0.1882353  0.9490196  0.99215686 0.65882355 0.\n",
      " 0.         0.         0.         0.         0.         0.\n",
      " 0.3137255  0.99215686 0.65882355 0.         0.         0.\n",
      " 0.         0.         0.         0.         0.         0.\n",
      " 0.         0.         0.         0.         0.         0.\n",
      " 0.827451   0.99215686 0.79607844 0.03529412 0.         0.\n",
      " 0.         0.         0.         0.         0.         0.64705884\n",
      " 0.79607844 0.03529412 0.         0.         0.         0.\n",
      " 0.         0.         0.         0.         0.         0.\n",
      " 0.         0.         0.         0.         0.7607843  0.99607843\n",
      " 0.99215686 0.9254902  0.16862746 0.02745098 0.         0.\n",
      " 0.         0.         0.         0.5803922  0.99215686 0.49803922\n",
      " 0.         0.         0.         0.         0.         0.\n",
      " 0.         0.         0.         0.         0.         0.\n",
      " 0.         0.         0.10588235 0.85490197 0.9882353  0.9882353\n",
      " 0.9882353  0.78431374 0.5058824  0.22352941 0.         0.\n",
      " 0.         0.5803922  0.9882353  0.49411765 0.         0.\n",
      " 0.         0.         0.         0.         0.         0.\n",
      " 0.         0.         0.         0.         0.         0.\n",
      " 0.         0.04705882 0.5294118  0.9843137  0.9882353  0.9882353\n",
      " 0.9254902  0.52156866 0.03529412 0.         0.07058824 0.6117647\n",
      " 0.9607843  0.10588235 0.         0.         0.         0.\n",
      " 0.         0.         0.         0.         0.         0.\n",
      " 0.         0.         0.         0.         0.         0.\n",
      " 0.         0.5294118  0.9882353  0.9882353  0.99215686 0.8784314\n",
      " 0.6627451  0.6627451  0.9372549  0.99215686 0.5529412  0.\n",
      " 0.         0.         0.         0.         0.         0.\n",
      " 0.         0.         0.         0.         0.         0.\n",
      " 0.         0.         0.         0.         0.         0.01568628\n",
      " 0.16470589 0.5058824  0.99215686 0.9882353  0.9882353  0.9882353\n",
      " 0.6431373  0.3372549  0.04313726 0.         0.         0.\n",
      " 0.         0.         0.         0.         0.         0.\n",
      " 0.         0.         0.         0.         0.         0.\n",
      " 0.         0.         0.         0.         0.         0.\n",
      " 0.         0.         0.         0.         0.         0.\n",
      " 0.         0.         0.         0.         0.         0.\n",
      " 0.         0.         0.         0.         0.         0.\n",
      " 0.         0.         0.         0.         0.         0.\n",
      " 0.         0.         0.         0.         0.         0.\n",
      " 0.         0.         0.         0.         0.         0.\n",
      " 0.         0.         0.         0.         0.         0.\n",
      " 0.         0.         0.         0.         0.         0.\n",
      " 0.         0.         0.         0.         0.         0.\n",
      " 0.         0.         0.         0.         0.         0.\n",
      " 0.         0.         0.         0.         0.         0.\n",
      " 0.         0.         0.         0.         0.         0.\n",
      " 0.         0.         0.         0.         0.         0.\n",
      " 0.         0.         0.         0.         0.         0.\n",
      " 0.         0.         0.         0.         0.         0.\n",
      " 0.         0.         0.         0.         0.         0.\n",
      " 0.         0.         0.         0.         0.         0.\n",
      " 0.         0.         0.         0.         0.         0.\n",
      " 0.         0.         0.         0.         0.         0.\n",
      " 0.         0.         0.         0.         0.         0.\n",
      " 0.         0.         0.         0.        ]\n",
      "[[0. 0. 0. 0. 0. 0. 1. 0. 0. 0.]\n",
      " [0. 0. 1. 0. 0. 0. 0. 0. 0. 0.]\n",
      " [0. 0. 0. 0. 0. 0. 0. 1. 0. 0.]]\n",
      "x_train:5250 x_test:1750 y_train:5250 y_test:1750\n"
     ]
    }
   ],
   "source": [
    "from sklearn.datasets import fetch_openml\n",
    "from sklearn import preprocessing\n",
    "from sklearn.model_selection import train_test_split\n",
    "\n",
    "# 手書き文字のデータセットをダウンロードして、実験用データを準備 (70000枚のうち7000枚を利用)\n",
    "mnist_data = fetch_openml('mnist_784', version=1)\n",
    "_x = np.array(mnist_data['data'].astype(np.float32))\n",
    "_y = np.array(mnist_data['target'].astype(np.int32))\n",
    "_, x, _, y = train_test_split(_x, _y, test_size=0.1, random_state=1)\n",
    "\n",
    "# 特徴量は 0-1 の範囲に正規化、ターゲットは one-hot ベクトル化\n",
    "x = x / 255\n",
    "print(x[0])\n",
    "y = np.identity(10)[y]\n",
    "print(y[:3])\n",
    "\n",
    "# データを学習用と検証用に分割\n",
    "x_train, x_test, y_train, y_test = \\\n",
    "    train_test_split(x, y, test_size=0.25, random_state=1) # 検証用データに25%を割当て\n",
    "print(f'x_train:{len(x_train)} x_test:{len(x_test)} y_train:{len(y_train)} y_test:{len(y_test)}')"
   ]
  },
  {
   "cell_type": "code",
   "execution_count": 5,
   "metadata": {},
   "outputs": [
    {
     "name": "stdout",
     "output_type": "stream",
     "text": [
      "Model: \"mnist_model\"\n",
      "_________________________________________________________________\n",
      " Layer (type)                Output Shape              Param #   \n",
      "=================================================================\n",
      " dense_4 (Dense)             (None, 784)               615440    \n",
      "                                                                 \n",
      " dense_5 (Dense)             (None, 10)                7850      \n",
      "                                                                 \n",
      "=================================================================\n",
      "Total params: 623,290\n",
      "Trainable params: 623,290\n",
      "Non-trainable params: 0\n",
      "_________________________________________________________________\n",
      "mnist_model, accuracy_score: train data : 0.99886  test data : 0.92114\n",
      "Wall time: 42.5 s\n"
     ]
    },
    {
     "data": {
      "image/png": "[encoded data removed]",
      "text/plain": [
       "<Figure size 432x288 with 1 Axes>"
      ]
     },
     "metadata": {
      "needs_background": "light"
     },
     "output_type": "display_data"
    }
   ],
   "source": [
    "%%time \n",
    "# ニューラルネットワークのモデルを作成 (サマリを表示)\n",
    "mnist_model = tf.keras.models.Sequential(name='mnist_model') # ニューラルネットワークのモデルの箱を用意\n",
    "mnist_model.add(tf.keras.layers.Dense(input_dim=784, units=784, activation='relu')) # 784入力のセルを784個用意、活性化関数は ReLU\n",
    "mnist_model.add(tf.keras.layers.Dense(units=10, activation='softmax')) # セルを10個からなる出力層を用意、活性化関数はソフトマックス\n",
    "mnist_model.summary()  # 作成したモデルの中身を表示\n",
    "\n",
    "# 学習時の設定を行い、学習を実施 (学習中のlossの変化をグラフで表示)\n",
    "mnist_model.compile(loss='categorical_crossentropy', optimizer='sgd', metrics=['accuracy']) # 学習時の損失関数、最適化関数、評価関数を設定\n",
    "history = mnist_model.fit(x_train, y_train, epochs=50, batch_size=10, verbose=0) # fit関数で学習を実施\n",
    "plt.plot(history.history['loss']) # 学習中のlossの変化をグラフで表示\n",
    "\n",
    "# 学習したモデルの性能(正答率)を学習用データと検証用データで評価\n",
    "train_loss, train_accuracy = mnist_model.evaluate(x_train, y_train, verbose=0)\n",
    "test_loss, test_accuracy = mnist_model.evaluate(x_test, y_test, verbose=0)\n",
    "print(f'mnist_model, accuracy_score: train data : {train_accuracy:.5f}  test data : {test_accuracy:.5f}')"
   ]
  }
 ],
 "metadata": {
  "kernelspec": {
   "display_name": "Python 3.9.9 ('venv': venv)",
   "language": "python",
   "name": "python3"
  },
  "language_info": {
   "codemirror_mode": {
    "name": "ipython",
    "version": 3
   },
   "file_extension": ".py",
   "mimetype": "text/x-python",
   "name": "python",
   "nbconvert_exporter": "python",
   "pygments_lexer": "ipython3",
   "version": "3.9.9"
  },
  "orig_nbformat": 4,
  "vscode": {
   "interpreter": {
    "hash": "18ef0afcf35f1452430268c7ef685ac367525865953635d3b087fb3264879c09"
   }
  }
 },
 "nbformat": 4,
 "nbformat_minor": 2
}
