{
 "cells": [
  {
   "cell_type": "markdown",
   "metadata": {},
   "source": [
    "DS12 階層型クラスタリングにおける ward法 の挙動を確認"
   ]
  },
  {
   "cell_type": "code",
   "execution_count": 4,
   "metadata": {},
   "outputs": [],
   "source": [
    "# ライブラリをインポート\n",
    "import numpy as np\n",
    "import pandas as pd\n",
    "import matplotlib.pyplot as plt\n",
    "import seaborn as sns\n",
    "from scipy.cluster import hierarchy\n",
    "from sklearn.preprocessing import StandardScaler"
   ]
  },
  {
   "cell_type": "markdown",
   "metadata": {},
   "source": [
    "* 階層型クラスタリングをward法で実施した場合のクラスターの併合順を確認するためのサンプルコードです\n",
    "* 散布図のようにデータを配置したところから、クラスタリングを開始します"
   ]
  },
  {
   "cell_type": "code",
   "execution_count": 5,
   "metadata": {},
   "outputs": [
    {
     "name": "stdout",
     "output_type": "stream",
     "text": [
      "(7, 2)\n"
     ]
    },
    {
     "data": {
      "image/png": "[encoded data removed]",
      "text/plain": [
       "<Figure size 300x400 with 1 Axes>"
      ]
     },
     "metadata": {},
     "output_type": "display_data"
    }
   ],
   "source": [
    "# irisデータ(csv形式)から読み込んでデータフレームを作成\n",
    "sample_df = pd.DataFrame({\n",
    "    'x1': [1.0, 1.0, 1.0, 1.0, 3.0, 3.0, 3.0],\n",
    "    'x2': [1.0, 2.0, 5.0, 6.0, 1.5, 5.0, 6.0],\n",
    "})\n",
    "sample_df_labels = ['c11', 'c12', 'c21', 'c22', 'c3', 'c41', 'c42']\n",
    "print(sample_df.shape)\n",
    "# 散布図を表示\n",
    "plt.figure(figsize=(3, 4))\n",
    "plt.scatter(sample_df['x1'], sample_df['x2'])\n",
    "plt.xlabel('x1')\n",
    "plt.xlim(0, 4)\n",
    "plt.ylabel('x2')\n",
    "plt.ylim(0, 7)\n",
    "plt.title('Sample Data Scatter Plot')\n",
    "for i, label in enumerate(sample_df_labels):\n",
    "    plt.text(sample_df['x1'][i]+0.1, sample_df['x2'][i]+0.1, sample_df_labels[i])\n",
    "plt.show()"
   ]
  },
  {
   "cell_type": "markdown",
   "metadata": {},
   "source": [
    "* 上のデータを階層型クラスタリングした結果です。\n",
    "* クラスター(C12,C13)とクラスター(C3)、クラスター(C41,C42)とクラスター(C21,C22)の重心間の距離は同じですが、二つのクラスターの分散の和が小さいクラスター(C12,C13)とクラスター(C3)が先に併合されていることが確認できます。"
   ]
  },
  {
   "cell_type": "code",
   "execution_count": 6,
   "metadata": {},
   "outputs": [
    {
     "data": {
      "image/png": "[encoded data removed]",
      "text/plain": [
       "<Figure size 600x400 with 1 Axes>"
      ]
     },
     "metadata": {},
     "output_type": "display_data"
    }
   ],
   "source": [
    "# クラスター間の距離を計算 (ユークリッド距離を利用)\n",
    "dist = hierarchy.distance.pdist(sample_df, metric='euclidean')\n",
    "# クラスターを統合 (ward法)\n",
    "linkage = hierarchy.linkage(dist, method='ward', metric='euclidean') \n",
    "# デンドログラムを表示\n",
    "fig, ax = plt.subplots(figsize=(6,4))\n",
    "ax = hierarchy.dendrogram(Z=linkage, orientation='right', labels=sample_df_labels)"
   ]
  },
  {
   "cell_type": "code",
   "execution_count": 11,
   "metadata": {},
   "outputs": [
    {
     "name": "stdout",
     "output_type": "stream",
     "text": [
      "Hierarchical Clustering : distance between samples\n",
      "[1.         4.         5.         2.06155281 4.47213595 5.38516481\n",
      " 3.         4.         2.06155281 3.60555128 4.47213595 1.\n",
      " 4.03112887 2.         2.23606798 4.9244289  2.23606798 2.\n",
      " 3.5        4.5        1.        ]\n",
      "Distance between c11 and c11: 1.0\n",
      "Distance between c11 and c12: 4.0\n",
      "Distance between c11 and c21: 5.0\n",
      "Distance between c11 and c22: 2.0615528128088303\n",
      "Distance between c11 and c3: 4.47213595499958\n",
      "Distance between c11 and c41: 5.385164807134504\n",
      "Distance between c12 and c11: 3.0\n",
      "Distance between c12 and c12: 4.0\n",
      "Distance between c12 and c21: 2.0615528128088303\n",
      "Distance between c12 and c22: 3.605551275463989\n",
      "Distance between c12 and c3: 4.47213595499958\n",
      "Distance between c12 and c41: 1.0\n",
      "Distance between c21 and c11: 4.031128874149275\n",
      "Distance between c21 and c12: 2.0\n",
      "Distance between c21 and c21: 2.23606797749979\n",
      "Distance between c21 and c22: 4.924428900898052\n",
      "Distance between c21 and c3: 2.23606797749979\n",
      "Distance between c21 and c41: 2.0\n",
      "Distance between c22 and c11: 3.5\n",
      "Distance between c22 and c12: 4.5\n",
      "Distance between c22 and c21: 1.0\n"
     ]
    }
   ],
   "source": [
    "# 階層型クラスタリングで利用したサンプルデータ間の距離を表示\n",
    "print('Hierarchical Clustering : distance between samples')\n",
    "print(dist)\n",
    "for i in range(len(dist)):\n",
    "    print(f\"Distance between {sample_df_labels[i // (len(sample_df_labels) - 1)]} and {sample_df_labels[i % (len(sample_df_labels) - 1)]}: {dist[i]}\")"
   ]
  },
  {
   "cell_type": "code",
   "execution_count": null,
   "metadata": {},
   "outputs": [
    {
     "name": "stdout",
     "output_type": "stream",
     "text": [
      "Hierarchical Clustering : linkage matrix\n",
      "[[ 0.          1.          1.          2.        ]\n",
      " [ 2.          3.          1.          2.        ]\n",
      " [ 5.          6.          1.          2.        ]\n",
      " [ 4.          7.          2.30940108  3.        ]\n",
      " [ 8.          9.          2.82842712  4.        ]\n",
      " [10.         11.          7.43223353  7.        ]]\n",
      "Linkage between c11 and c12: distance=1.0, num_samples=2.0\n",
      "Linkage between c21 and c22: distance=1.0, num_samples=2.0\n",
      "Linkage between c41 and c42: distance=1.0, num_samples=2.0\n",
      "Linkage between c3 and (c11,c12): distance=2.3094010767585034, num_samples=3.0\n",
      "Linkage between (c21,c22) and (c41,c42): distance=2.8284271247461903, num_samples=4.0\n",
      "Linkage between (c3,(c11,c12)) and ((c21,c22),(c41,c42)): distance=7.4322335295720645, num_samples=7.0\n"
     ]
    }
   ],
   "source": [
    "# 階層型クラスタリングで利用したサンプルデータ間の距離を表示\n",
    "print('Hierarchical Clustering : linkage matrix')\n",
    "print(linkage)\n",
    "_sample_df_labels = sample_df_labels\n",
    "for c1, c2, dist, num_samples in linkage:\n",
    "    print(f\"Linkage between {_sample_df_labels[int(c1)]} and {_sample_df_labels[int(c2)]}: distance={dist}, num_samples={num_samples}\")\n",
    "    # 併合されたクラスターのラベルを追加 ( c1, c2 -> (c1,c2) )\n",
    "    _sample_df_labels.append(f\"({_sample_df_labels[int(c1)]},{_sample_df_labels[int(c2)]})\")\n"
   ]
  }
 ],
 "metadata": {
  "kernelspec": {
   "display_name": "venv",
   "language": "python",
   "name": "python3"
  },
  "language_info": {
   "codemirror_mode": {
    "name": "ipython",
    "version": 3
   },
   "file_extension": ".py",
   "mimetype": "text/x-python",
   "name": "python",
   "nbconvert_exporter": "python",
   "pygments_lexer": "ipython3",
   "version": "3.10.11"
  }
 },
 "nbformat": 4,
 "nbformat_minor": 2
}
